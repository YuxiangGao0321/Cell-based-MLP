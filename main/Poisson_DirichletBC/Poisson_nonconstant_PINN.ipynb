{
 "cells": [
  {
   "cell_type": "code",
   "execution_count": 41,
   "metadata": {},
   "outputs": [],
   "source": [
    "import sys\n",
    "# syspath = 'D:/Research_CAE/MyTinyCUDANN/tiny-cuda-nn/my_job'\n",
    "syspath = 'D:/Research_CAE/MyTinyCUDANN/tiny-cuda-nn/main'\n",
    "sys.path.append(syspath)\n",
    "from my_tiny_cuda import my_MLP,my_sin,weights_init_uniform,grad1\n",
    "from my_tiny_cuda import my_rmse,plot_diff,plot_result_ele,my_relativeL2,my_sig,plot_result_node\n",
    "\n",
    "from my_tiny_cuda import fdiff2 as fdiff\n",
    "\n",
    "from tools import random_points_1D,random_points_2D\n",
    "\n",
    "\n",
    "import os\n",
    "import torch\n",
    "import numpy as np\n",
    "import time\n",
    "from matplotlib import pyplot as plt\n",
    "import matplotlib.colors as colors\n",
    "device = torch.device('cuda' if torch.cuda.is_available() else 'cpu')\n",
    "my_dtype = torch.float32"
   ]
  },
  {
   "cell_type": "code",
   "execution_count": 42,
   "metadata": {},
   "outputs": [],
   "source": [
    "class strong_form(torch.nn.Module):\n",
    "    def __init__(self):\n",
    "        super().__init__()\n",
    "    def f(self,x,y):\n",
    "        result = torch.exp(-x)*(x-2+y**3+6*y)\n",
    "        return result\n",
    "    def forward(self,X,d2u_dx2,d2u_dy2):\n",
    "        x,y = X[:,0],X[:,1]\n",
    "        result = d2u_dx2 + d2u_dy2 - self.f(x,y)\n",
    "        return result\n",
    "\n",
    "class BC_function(torch.nn.Module):\n",
    "    def __init__(self):\n",
    "        super().__init__()\n",
    "    def forward(self,X):\n",
    "        x,y = X[:,0],X[:,1]\n",
    "        result = torch.exp(-x)*(x+y**3)\n",
    "        return result\n",
    "true_func = BC_function()"
   ]
  },
  {
   "cell_type": "code",
   "execution_count": 43,
   "metadata": {},
   "outputs": [
    {
     "name": "stdout",
     "output_type": "stream",
     "text": [
      "done\n"
     ]
    }
   ],
   "source": [
    "activation, activation_name = torch.nn.Tanh(),\"Tanh\"\n",
    "# activation, activation_name = torch.nn.SiLU(),\"SiLU\"\n",
    "# activation, activation_name = my_sin(), \"Sin\"\n",
    "n_hidden = 5\n",
    "width = 64\n",
    "mlp = my_MLP(activation=activation,n_input_dims=2,\n",
    "             n_output_dims=1,n_hidden = n_hidden,width = width,\n",
    "             spectral_norm=False,dtype = my_dtype).to(device)\n",
    "if activation_name == \"Sin\":\n",
    "    mlp.apply(weights_init_uniform)\n",
    "\n",
    "\n",
    "model = mlp\n",
    "\n",
    "MSE = torch.nn.MSELoss().to(device)\n",
    "MAE = torch.nn.L1Loss().to(device)\n",
    "\n",
    "print(\"done\")"
   ]
  },
  {
   "cell_type": "code",
   "execution_count": 44,
   "metadata": {},
   "outputs": [
    {
     "data": {
      "text/plain": [
       "torch.Size([2000, 2])"
      ]
     },
     "execution_count": 44,
     "metadata": {},
     "output_type": "execute_result"
    }
   ],
   "source": [
    "batch_size_BC = 2000\n",
    "field_min,field_max = 0,1\n",
    "\n",
    "n00 = torch.tensor([0,0])\n",
    "n01 = torch.tensor([0,1])\n",
    "n10 = torch.tensor([1,0])\n",
    "n11 = torch.tensor([1,1])\n",
    "X_bot = random_points_1D(int(batch_size_BC/4),n00,n10)\n",
    "X_left = random_points_1D(int(batch_size_BC/4),n00,n01)\n",
    "X_right = random_points_1D(int(batch_size_BC/4),n10,n11)\n",
    "X_top = random_points_1D(int(batch_size_BC/4),n01,n11)\n",
    "X_boundaries = torch.cat((X_bot,X_left,X_top,X_right), dim = 0)\n",
    "X_boundaries.shape"
   ]
  },
  {
   "cell_type": "code",
   "execution_count": 45,
   "metadata": {},
   "outputs": [],
   "source": [
    "resolution = 501\n",
    "field_min,field_max = 0,1\n",
    "x1_list = np.linspace(field_min, field_max, resolution)\n",
    "x2_list = np.linspace(field_min, field_max, resolution)\n",
    "X1,X2 = np.meshgrid(x1_list,x2_list)\n",
    "X_field = torch.tensor(np.concatenate((X1.reshape(-1,1),X2.reshape(-1,1)),axis = 1)).float().cuda()\n",
    "\n",
    "u_real = true_func(X_field).to('cpu').detach().numpy()\n",
    "u_real_plot = u_real.reshape(resolution,resolution)"
   ]
  },
  {
   "cell_type": "code",
   "execution_count": 46,
   "metadata": {
    "scrolled": true
   },
   "outputs": [
    {
     "name": "stdout",
     "output_type": "stream",
     "text": [
      "Iter: 1 inner_loss: 0.0032500624656677246 \n",
      " bc_loss: 9.770764108907315e-08 u_L2: 0.00096455286\n",
      "Iter: 2 inner_loss: 0.0021074539981782436 \n",
      " bc_loss: 6.21067073325321e-08 u_L2: 0.00064360077\n",
      "Iter: 3 inner_loss: 0.0010506586404517293 \n",
      " bc_loss: 3.3431891921509305e-08 u_L2: 0.0010773914\n",
      "Iter: 4 inner_loss: 0.0006840329733677208 \n",
      " bc_loss: 1.960912499043843e-08 u_L2: 0.0005941087\n",
      "Iter: 5 inner_loss: 0.0006837392575107515 \n",
      " bc_loss: 1.945644534373514e-08 u_L2: 0.0005903269\n",
      "Iter: 6 inner_loss: 0.0006837393157184124 \n",
      " bc_loss: 1.945644534373514e-08 u_L2: 0.0005903269\n",
      "Iter: 7 inner_loss: 0.0006837393157184124 \n",
      " bc_loss: 1.945644534373514e-08 u_L2: 0.0005903269\n",
      "Iter: 8 inner_loss: 0.0006837393157184124 \n",
      " bc_loss: 1.945644534373514e-08 u_L2: 0.0005903269\n",
      "Iter: 9 inner_loss: 0.0006837393157184124 \n",
      " bc_loss: 1.945644534373514e-08 u_L2: 0.0005903269\n",
      "Iter: 10 inner_loss: 0.0006837390828877687 \n",
      " bc_loss: 1.9456100730508297e-08 u_L2: 0.0005901954\n"
     ]
    },
    {
     "data": {
      "text/plain": [
       "101.06154775619507"
      ]
     },
     "execution_count": 46,
     "metadata": {},
     "output_type": "execute_result"
    }
   ],
   "source": [
    "n_steps = 6000\n",
    "n_step_output = 600\n",
    "n_step_half_lr = 500\n",
    "\n",
    "X_I_res = 300\n",
    "batch_size = X_I_res**2\n",
    "lam = 5000\n",
    "X_I = torch.rand([batch_size, 2],dtype=my_dtype, device = 'cuda')\n",
    "\n",
    "# optimizer,optimizer_name = torch.optim.Adam([\n",
    "#     {'params':model.parameters(),'weight_decay':1e-6},\n",
    "# ], lr=0.005, eps=1e-15), \"Adam\"\n",
    "\n",
    "max_iter = 600\n",
    "optimizer,optimizer_name = torch.optim.LBFGS(model.parameters(), lr=1e-1, \n",
    "                              max_iter=max_iter, max_eval=max_iter, history_size=50,\n",
    "                              #tolerance_grad=1e-5, tolerance_change=0.5 * np.finfo(float).eps,\n",
    "                              line_search_fn=\"strong_wolfe\"), \"LBFGS\"\n",
    "\n",
    "if optimizer_name == \"Adam\":\n",
    "    n_steps = n_steps\n",
    "    n_step_output = n_step_output\n",
    "    n_step_half_lr = n_step_half_lr\n",
    "elif optimizer_name == \"LBFGS\":\n",
    "    n_steps = int(n_steps/max_iter)\n",
    "    n_step_output = max(int(n_step_output/max_iter),1)\n",
    "    n_step_half_lr = max(int(n_step_half_lr/max_iter),1)\n",
    "\n",
    "PDE = strong_form()\n",
    "pretrain_func = BC_function()\n",
    "f_boundaries = pretrain_func(X_boundaries)\n",
    "\n",
    "diff_info = fdiff(model, batch_size)\n",
    "diff_info.to_device(\"cuda\")\n",
    "\n",
    "model.train()\n",
    "start = time.time()\n",
    "test_loss = []\n",
    "for i in range(1, n_steps+1):\n",
    "    def closure():\n",
    "        global inner_loss\n",
    "        optimizer.zero_grad()\n",
    "        # Boundary\n",
    "        bc_loss = MSE(model(X_boundaries),f_boundaries)\n",
    "        # Inner\n",
    "        # X_I = torch.rand([batch_size, 2],dtype=my_dtype, device = 'cuda')\n",
    "\n",
    "        diff_res = diff_info.forward(X_I)\n",
    "\n",
    "\n",
    "        PDE_residual = PDE(X_I, d2u_dx2 = diff_res['u_xx'],d2u_dy2 = diff_res['u_yy'])\n",
    "        inner_loss = (PDE_residual**2).mean()\n",
    "        loss = inner_loss + lam * bc_loss\n",
    "        loss.backward()\n",
    "        return loss\n",
    "    \n",
    "    optimizer.step(closure)\n",
    "           \n",
    "\n",
    "    if i%n_step_output == 0:\n",
    "        model.eval()\n",
    "        with torch.no_grad():\n",
    "            u_pred = model(X_field).to('cpu').detach().numpy()\n",
    "            #u_pred_plot = u_pred.reshape(resolution,resolution)\n",
    "            u_error = my_relativeL2(u_pred,u_real)\n",
    "            pred_bc = model(X_boundaries)\n",
    "            loss_bc = MSE(pred_bc,f_boundaries)\n",
    "        print('Iter:',i,'inner_loss:',inner_loss.item(),\"\\n\",\n",
    "              'bc_loss:',loss_bc.item(),'u_L2:',u_error,)\n",
    "        test_loss.append([time.time()-start, i,u_error])\n",
    "        model.train()\n",
    "\n",
    "    if i%n_step_half_lr == 0:\n",
    "        for _ in optimizer.param_groups:\n",
    "            _['lr'] = _['lr']/2\n",
    "\n",
    "end = time.time()\n",
    "end-start"
   ]
  },
  {
   "cell_type": "code",
   "execution_count": 47,
   "id": "aca260d6",
   "metadata": {},
   "outputs": [],
   "source": [
    "np.savetxt(\"data/PINN({}).txt\".format(activation_name), np.array(test_loss))\n",
    "# np.savetxt(\"onephase_lam/Lam={}.txt\".format(lam), np.array(test_loss))\n",
    "# np.savetxt(\"data/Poisson_allpbc_n_width={}.txt\".format(width), np.array(test_loss))\n",
    "# np.savetxt(\"data/grid_two_phase_n_hidden={}_width={}.txt\".format(n_hidden,width), np.array(test_loss))"
   ]
  },
  {
   "cell_type": "code",
   "execution_count": 48,
   "metadata": {},
   "outputs": [],
   "source": [
    "model.eval()\n",
    "torch.no_grad()\n",
    "pred = model(X_field).to('cpu').detach().numpy().reshape(resolution,resolution)"
   ]
  },
  {
   "cell_type": "code",
   "execution_count": 49,
   "metadata": {},
   "outputs": [
    {
     "data": {
      "image/png": "[encoded data removed]",
      "text/plain": [
       "<Figure size 1080x288 with 6 Axes>"
      ]
     },
     "metadata": {
      "needs_background": "light"
     },
     "output_type": "display_data"
    }
   ],
   "source": [
    "ifsave = False\n",
    "plot_diff(pred,u_real_plot,field_name = \"gridMLP\",f_name = '',ifsave = ifsave)"
   ]
  },
  {
   "cell_type": "code",
   "execution_count": 50,
   "metadata": {},
   "outputs": [],
   "source": [
    "# plot_result_node(f = pred_v,f0 = ground_truth_v,x = (x1,x2),mesh = tri,name = \"uy\",f_name = 'uy',ifsave = ifsave)"
   ]
  },
  {
   "cell_type": "code",
   "execution_count": 51,
   "metadata": {},
   "outputs": [],
   "source": [
    "# #Points for plot\n",
    "# resolution = 2501\n",
    "# field_min,field_max = 0,1\n",
    "# x1_list = np.linspace(field_min, field_max, resolution)\n",
    "# x2_list = np.linspace(field_min, field_max, resolution)\n",
    "# X1,X2 = np.meshgrid(x1_list,x2_list)\n",
    "# X_field = torch.tensor(np.concatenate((X1.reshape(-1,1),X2.reshape(-1,1)),axis = 1)).float().cuda()\n",
    "\n",
    "\n",
    "# in_hole = ((X_field[:,0]**2+X_field[:,1]**2-r_hole**2)<=0).to('cpu').numpy().reshape(resolution,resolution)\n",
    "# disp_x = modelu(X_field)\n",
    "# disp_x = disp_x.to('cpu').detach().numpy().reshape(resolution,resolution)\n",
    "\n",
    "\n",
    "# dux_dx = np.diff(disp_x)*(resolution-1)\n",
    "# dux_dx[in_hole[:,:-1]] = 0\n",
    "\n",
    "# X1_diffx = torch.tensor(X1[:,:-1]+1/(resolution-1)/2)\n",
    "# X2_diffx = torch.tensor(X2[:,:-1])\n",
    "# real_exx = domain.strain_tensor(X1_diffx,X2_diffx)[0].numpy()\n",
    "# real_exx[in_hole[:,:-1]] = 0"
   ]
  },
  {
   "cell_type": "code",
   "execution_count": 52,
   "metadata": {},
   "outputs": [],
   "source": [
    "# disp_y = modelv(X_field)\n",
    "# disp_y = disp_y.to('cpu').detach().numpy().reshape(resolution,resolution)\n",
    "\n",
    "\n",
    "# duy_dy = np.diff(disp_y,axis = 0)*(resolution-1)\n",
    "# duy_dy[in_hole[:-1,:]] = 0\n",
    "\n",
    "# X1_diffy = torch.tensor(X1[:-1,:])\n",
    "# X2_diffy = torch.tensor(X2[:-1,:]+1/(resolution-1)/2)\n",
    "# real_eyy = domain.strain_tensor(X1_diffy,X2_diffy)[1].numpy()\n",
    "# real_eyy[in_hole[:-1,:]] = 0"
   ]
  },
  {
   "cell_type": "code",
   "execution_count": 53,
   "metadata": {},
   "outputs": [],
   "source": [
    "# ifsave_FDM = False\n",
    "# plot_diff(dux_dx,real_exx,\"exx_FDM\",\"diff_exx_fdm\",ifsave = ifsave_FDM)"
   ]
  },
  {
   "cell_type": "code",
   "execution_count": 54,
   "metadata": {},
   "outputs": [],
   "source": [
    "# plot_diff(duy_dy,real_eyy,\"eyy_FDM\",\"diff_eyy_fdm\",ifsave = ifsave_FDM)"
   ]
  },
  {
   "cell_type": "code",
   "execution_count": 55,
   "metadata": {},
   "outputs": [],
   "source": [
    "# disp_y = modelv(X_field)\n",
    "# # disp_y[(X_field[:,0]**2+X_field[:,1]**2-r_hole**2)<=0] = 0\n",
    "# disp_y = disp_y.to('cpu').detach().numpy().reshape(resolution,resolution)\n",
    "# duy_dy = np.diff(disp_y,axis = 0)*(resolution-1)\n",
    "# duy_dy[in_hole[:-1,:]] = 0\n",
    "# plt.imshow(duy_dy,origin = 'lower',vmin = -0.1,vmax = 0.01)\n",
    "# plt.colorbar()\n",
    "# plt.title(\"eyy_finite_diff\")\n",
    "# plt.savefig('figs/eyy_finite_diff.jpg', dpi = 500)"
   ]
  },
  {
   "cell_type": "code",
   "execution_count": 56,
   "metadata": {},
   "outputs": [],
   "source": [
    "# ifsave = False\n",
    "# plot_diff(u_plot,ground_truth_u_plot,\"ux\",\"diff_ux_gridsample\",ifsave = ifsave)"
   ]
  },
  {
   "cell_type": "code",
   "execution_count": 57,
   "metadata": {},
   "outputs": [],
   "source": [
    "# plot_diff(v_plot,ground_truth_v_plot,\"uy\",\"diff_uy_gridsample\",ifsave = ifsave)"
   ]
  },
  {
   "cell_type": "code",
   "execution_count": 58,
   "metadata": {
    "scrolled": true
   },
   "outputs": [],
   "source": [
    "# X1_autodiff = torch.tensor(X1[:-1,:-1]+1/(resolution-1)/2)\n",
    "# X2_autodiff = torch.tensor(X2[:-1,:-1]+1/(resolution-1)/2)\n",
    "# in_hole_autodiff = ((X1_autodiff**2+X2_autodiff**2-r_hole**2)<=0).to('cpu').numpy().reshape(resolution-1,resolution-1)\n",
    "\n",
    "# X_IP = torch.cat((X1_autodiff.reshape(-1,1),X2_autodiff.reshape(-1,1)),axis = 1).float().cuda()\n",
    "\n",
    "# point_num = X_IP.shape[0]\n",
    "# pred_e11_IP = np.zeros(point_num)\n",
    "# pred_e12_IP = np.zeros(point_num)\n",
    "# pred_e22_IP = np.zeros(point_num)\n",
    "# plot_batch_size = 100000\n",
    "\n",
    "# # diff_info_plot = grad1(model, plot_batch_size)\n",
    "# i_batch = 0\n",
    "# i_1 = 0\n",
    "# for X_plot_batch in X_IP.split(plot_batch_size):\n",
    "#     i_1 = i_batch+X_plot_batch.shape[0]\n",
    "#     e11_IP,e12_IP = diff_info_u.forward_2d_plot(X_plot_batch)\n",
    "#     e21_IP,e22_IP = diff_info_v.forward_2d_plot(X_plot_batch)\n",
    "#     # e11_IP,e12_IP,e21_IP,e22_IP =diff_info_plot.forward_2d_uv_plot(X_plot_batch)\n",
    "\n",
    "#     e11_IP = e11_IP.to('cpu').detach().numpy()\n",
    "#     e22_IP = e22_IP.to('cpu').detach().numpy()\n",
    "#     e12_IP = ((e12_IP+e21_IP)/2).to('cpu').detach().numpy()\n",
    "    \n",
    "#     pred_e11_IP[i_batch:i_1] = e11_IP\n",
    "#     pred_e12_IP[i_batch:i_1] = e12_IP\n",
    "#     pred_e22_IP[i_batch:i_1] = e22_IP\n",
    "    \n",
    "#     i_batch = i_1\n",
    "#     print(i_batch,point_num)\n",
    "    \n",
    "# # rmse_e11 = my_rmse(pred_e11_IP, true_e11_IP)\n",
    "# # rmse_e22 = my_rmse(pred_e22_IP, true_e22_IP)\n",
    "# # rmse_e12 = my_rmse(pred_e12_IP, true_e12_IP)\n",
    "\n",
    "# # rmse_e11 = float(np.format_float_positional(rmse_e11,precision = 3,unique=False, fractional=False, trim='k'))\n",
    "# # rmse_e22 = float(np.format_float_positional(rmse_e22,precision = 3,unique=False, fractional=False, trim='k'))\n",
    "# # rmse_e12 = float(np.format_float_positional(rmse_e12,precision = 3,unique=False, fractional=False, trim='k'))\n",
    "\n",
    "# # x1 = np.loadtxt(real_path + \"x1_plot.txt\")\n",
    "# # x2 = np.loadtxt(real_path + \"x2_plot.txt\")\n",
    "# # tri = np.loadtxt(real_path + \"tri_plot.txt\")"
   ]
  },
  {
   "cell_type": "code",
   "execution_count": 59,
   "metadata": {},
   "outputs": [],
   "source": [
    "\n",
    "# # e11_IP,e12_IP = diff_info_u.forward_2d_plot(X_IP)\n",
    "# # e21_IP,e22_IP = diff_info_v.forward_2d_plot(X_IP)\n",
    "\n",
    "# # pred_e11_IP = e11_IP.to('cpu').detach().numpy().reshape(resolution-1,resolution-1)\n",
    "# # pred_e22_IP = e22_IP.to('cpu').detach().numpy().reshape(resolution-1,resolution-1)\n",
    "# # pred_e12_IP = ((e12_IP+e21_IP)/2).to('cpu').detach().numpy().reshape(resolution-1,resolution-1)\n",
    "\n",
    "\n",
    "# pred_e11_IP = pred_e11_IP.reshape(resolution-1,resolution-1)\n",
    "# pred_e22_IP = pred_e22_IP.reshape(resolution-1,resolution-1)\n",
    "# pred_e12_IP = pred_e12_IP.reshape(resolution-1,resolution-1)\n",
    "\n",
    "# pred_e11_IP[in_hole_autodiff] = 0\n",
    "# pred_e22_IP[in_hole_autodiff] = 0\n",
    "# pred_e12_IP[in_hole_autodiff] = 0\n",
    "\n",
    "# true_e11_IP,true_e22_IP,true_e12_IP = domain.strain_tensor(X_IP[:,0],X_IP[:,1])\n",
    "# true_e11_IP = true_e11_IP.to('cpu').detach().numpy().reshape(resolution-1,resolution-1)\n",
    "# true_e22_IP = true_e22_IP.to('cpu').detach().numpy().reshape(resolution-1,resolution-1)\n",
    "# true_e12_IP = true_e12_IP.to('cpu').detach().numpy().reshape(resolution-1,resolution-1)\n",
    "\n",
    "# true_e11_IP[in_hole_autodiff] = 0\n",
    "# true_e22_IP[in_hole_autodiff] = 0\n",
    "# true_e12_IP[in_hole_autodiff] = 0"
   ]
  },
  {
   "cell_type": "code",
   "execution_count": 60,
   "metadata": {},
   "outputs": [],
   "source": [
    "# ifsave = False\n",
    "# plot_diff(pred_e11_IP,true_e11_IP,\"exx_autodiff\",\"diff_exx_autodiff\",ifsave = ifsave)"
   ]
  },
  {
   "cell_type": "code",
   "execution_count": 61,
   "metadata": {
    "scrolled": true
   },
   "outputs": [],
   "source": [
    "# plot_diff(pred_e22_IP,true_e22_IP,\"eyy_autodiff\",\"diff_eyy_autodiff\",ifsave = ifsave)"
   ]
  },
  {
   "cell_type": "code",
   "execution_count": 62,
   "metadata": {},
   "outputs": [],
   "source": [
    "# IP_x = np.loadtxt(real_path + \"IP_x.txt\")\n",
    "# IP_y = np.loadtxt(real_path + \"IP_y.txt\")\n",
    "# X_nodes = torch.tensor(np.concatenate([IP_x.reshape(-1,1),IP_y.reshape(-1,1)]\n",
    "#                                    ,axis = 1)).float().cuda()"
   ]
  },
  {
   "cell_type": "code",
   "execution_count": 63,
   "metadata": {},
   "outputs": [],
   "source": [
    "# e11_nodes,e12_nodes = diff_info_u.forward_2d_plot(X_nodes)\n",
    "# e21_nodes,e22_nodes = diff_info_v.forward_2d_plot(X_nodes)\n",
    "\n",
    "# pred_e11_nodes = e11_nodes.to('cpu').detach().numpy()\n",
    "# pred_e22_nodes = e22_nodes.to('cpu').detach().numpy()\n",
    "# pred_e12_nodes = ((e12_nodes+e21_nodes)/2).to('cpu').detach().numpy()\n",
    "\n",
    "# true_e11_nodes,true_e22_nodes,true_e12_nodes = domain.strain_tensor(X_nodes[:,0],X_nodes[:,1])\n",
    "# true_e11_nodes = true_e11_nodes.to('cpu').detach().numpy()\n",
    "# true_e22_nodes = true_e22_nodes.to('cpu').detach().numpy()\n",
    "# true_e12_nodes = true_e12_nodes.to('cpu').detach().numpy()"
   ]
  },
  {
   "cell_type": "code",
   "execution_count": 64,
   "metadata": {},
   "outputs": [],
   "source": [
    "# ifsave = False\n",
    "# plot_result_ele(f = pred_e11_nodes,f0 = true_e11_nodes,x = (x1,x2),mesh = tri,name = \"exx\",f_name = 'exx',ifsave = ifsave)"
   ]
  },
  {
   "cell_type": "code",
   "execution_count": 65,
   "metadata": {},
   "outputs": [],
   "source": [
    "# plot_result_ele(f = pred_e12_nodes,f0 = true_e12_nodes,x = (x1,x2),mesh = tri,name = \"exy\",f_name = 'exy',ifsave = ifsave)"
   ]
  },
  {
   "cell_type": "code",
   "execution_count": 66,
   "metadata": {},
   "outputs": [],
   "source": [
    "# plot_result_ele(f = pred_e22_nodes,f0 = true_e22_nodes,x = (x1,x2),mesh = tri,name = \"eyy\",f_name = 'eyy',ifsave = ifsave)"
   ]
  },
  {
   "cell_type": "code",
   "execution_count": 67,
   "metadata": {},
   "outputs": [],
   "source": [
    "# modelu.eval()\n",
    "# modelv.eval()\n",
    "# torch.no_grad()\n",
    "# resolution = 501\n",
    "# eps = boundary_min\n",
    "# field_min,field_max = eps,1-eps\n",
    "# x1_list = np.linspace(field_min, field_max, resolution)\n",
    "# x2_list = np.linspace(field_min, field_max, resolution)\n",
    "# X1,X2 = np.meshgrid(x1_list,x2_list)\n",
    "# X_field = torch.tensor(np.concatenate((X1.reshape(-1,1),X2.reshape(-1,1)),axis = 1)).float().cuda()\n",
    "\n",
    "# plot_batch = X_field.shape[0]\n",
    "# diff_info_u = grad1(modelu, plot_batch)\n",
    "# diff_info_v = grad1(modelv, plot_batch)\n",
    "# u_x,u_y = diff_info_u.forward_2d(X_field)\n",
    "# v_x,v_y = diff_info_v.forward_2d(X_field)\n",
    "# ux_plot = u_x.to('cpu').detach().numpy().reshape(resolution,resolution)\n",
    "# vy_plot = v_y.to('cpu').detach().numpy().reshape(resolution,resolution)\n",
    "# tao_xy_plot = (0.5*(u_y.detach()+v_x.detach())).to('cpu').numpy().reshape(resolution,resolution)"
   ]
  },
  {
   "cell_type": "code",
   "execution_count": 68,
   "metadata": {},
   "outputs": [],
   "source": [
    "# plt.figure(figsize=(16,4))\n",
    "\n",
    "# plt.subplot(131)\n",
    "# fmax = float(np.format_float_positional(ux_plot.max(),precision = 3,unique=False, fractional=False, trim='k'))\n",
    "# fmin = float(np.format_float_positional(ux_plot.min(),precision = 3,unique=False, fractional=False, trim='k'))\n",
    "# interval = (fmax-fmin)/4\n",
    "# ct = (fmin, fmin + interval, fmin + 2*interval, fmin + 3*interval, fmax)\n",
    "# plt.imshow(ux_plot,origin = 'lower',norm=colors.TwoSlopeNorm(vcenter=ct[2],vmin = ct[0],vmax = ct[-1]),\n",
    "#           interpolation = None)\n",
    "# # plt.imshow(f_plot,origin = 'lower',interpolation = None)\n",
    "# plt.xticks([0,resolution],[xmin,xmax])\n",
    "# plt.yticks([0,resolution],[ymin,ymax])\n",
    "# plt.colorbar(ticks=ct)\n",
    "# plt.axis('off')\n",
    "# plt.title('exx (rmse:{})'.format(rmse_e11))\n",
    "\n",
    "# plt.subplot(132)\n",
    "# fmax = float(np.format_float_positional(vy_plot.max(),precision = 3,unique=False, fractional=False, trim='k'))\n",
    "# fmin = float(np.format_float_positional(vy_plot.min(),precision = 3,unique=False, fractional=False, trim='k'))\n",
    "# interval = (fmax-fmin)/4\n",
    "# ct = (fmin, fmin + interval, fmin + 2*interval, fmin + 3*interval, fmax)\n",
    "# plt.imshow(vy_plot,origin = 'lower',norm=colors.TwoSlopeNorm(vcenter=ct[2],vmin = ct[0],vmax = ct[-1]),\n",
    "#           interpolation = None)\n",
    "# # plt.imshow(f_plot,origin = 'lower',interpolation = None)\n",
    "# plt.xticks([0,resolution],[xmin,xmax])\n",
    "# plt.yticks([0,resolution],[ymin,ymax])\n",
    "# plt.colorbar(ticks=ct)\n",
    "# plt.axis('off')\n",
    "# plt.title('eyy (rmse:{})'.format(rmse_e22))\n",
    "\n",
    "# plt.subplot(133)\n",
    "# fmax = float(np.format_float_positional(tao_xy_plot.max(),precision = 3,unique=False, fractional=False, trim='k'))\n",
    "# fmin = float(np.format_float_positional(tao_xy_plot.min(),precision = 3,unique=False, fractional=False, trim='k'))\n",
    "# interval = (fmax-fmin)/4\n",
    "# ct = (fmin, fmin + interval, fmin + 2*interval, fmin + 3*interval, fmax)\n",
    "# plt.imshow(tao_xy_plot,origin = 'lower',norm=colors.TwoSlopeNorm(vcenter=ct[2],vmin = ct[0],vmax = ct[-1]),\n",
    "#           interpolation = None)\n",
    "# plt.xticks([0,resolution],[xmin,xmax])\n",
    "# plt.yticks([0,resolution],[ymin,ymax])\n",
    "# plt.colorbar(ticks=ct)\n",
    "# plt.axis('off')\n",
    "# plt.title('exy (rmse:{})'.format(rmse_e12))\n",
    "# fig.tight_layout()\n",
    "# # plt.savefig('figs/fiber_eps_2grid.jpg',dpi = 300)\n",
    "# plt.show()"
   ]
  },
  {
   "cell_type": "code",
   "execution_count": 69,
   "metadata": {},
   "outputs": [],
   "source": [
    "# np.savetxt(\"results_data/tinyfix_w50.txt\", f_plot)"
   ]
  },
  {
   "cell_type": "code",
   "execution_count": 70,
   "metadata": {},
   "outputs": [],
   "source": [
    "# n_plots = 6\n",
    "# torch.no_grad()\n",
    "# field_y = encoding_v(X_field.to(device)).to('cpu').detach().numpy()\n",
    "# plot_levels = np.linspace(0,n_levels-1,n_plots).astype('int')\n",
    "# plt.figure(figsize=(14,8))\n",
    "\n",
    "# for level,i in zip(plot_levels,range(n_plots)):\n",
    "#     plt.subplot(2,3,i+1)\n",
    "#     f_plot = field_y[:,level*n_features].reshape(resolution,resolution)\n",
    "#     fmax = f_plot.max()\n",
    "#     fmin = f_plot.min()\n",
    "#     interval = (fmax-fmin)/4\n",
    "#     ct = (my_sig(fmin,2), my_sig(fmin + interval,2), my_sig(fmin + 2*interval,2), my_sig(fmin + 3*interval,2), my_sig(fmax,2))    \n",
    "#     plt.imshow(f_plot,origin = 'lower',interpolation = None,vmin=my_sig(fmin,2), vmax=my_sig(fmax,2))\n",
    "\n",
    "#     plt.xticks([0,resolution],[0,1])\n",
    "#     plt.yticks([0,resolution],[0,1])\n",
    "#     plt.axis('off')\n",
    "#     res = np.floor(np.power(p_l_s, float(level), dtype=\"d\")*base_res-1, dtype=\"d\").astype(int)+1\n",
    "#     plt.title(\"level = {}, res = {}\".format(level+1,res))\n",
    "#     plt.colorbar(ticks=ct)\n",
    "\n",
    "# # plt.savefig('figs/feature_output.jpg',dpi = 1500)\n",
    "# plt.show()"
   ]
  },
  {
   "cell_type": "code",
   "execution_count": 71,
   "metadata": {
    "scrolled": false
   },
   "outputs": [],
   "source": [
    "# n_plots = 6\n",
    "# X_field_grad = X_field.to(device).clone()\n",
    "# X_field_grad.requires_grad = True\n",
    "# field_y = encoding_v(X_field_grad)\n",
    "# plot_levels = np.linspace(0,n_levels-1,n_plots).astype('int')\n",
    "# plt.figure(figsize=(14,8))\n",
    "\n",
    "# for level,i in zip(plot_levels,range(n_plots)):\n",
    "#     plt.subplot(2,3,i+1)\n",
    "#     f_plot_disp = field_y[:,level*n_features]#.reshape(resolution,resolution)\n",
    "#     f_plot = grad(f_plot_disp,X_field_grad,\n",
    "#                        torch.ones_like(f_plot_disp).to(device),\n",
    "#                        retain_graph=True, create_graph=True)[0][:,1].reshape(resolution,resolution).to('cpu').detach().numpy()[1:-1,1:-1]\n",
    "#     fmax = f_plot.max()\n",
    "#     fmin = f_plot.min()\n",
    "#     interval = (fmax-fmin)/4\n",
    "#     ct = (my_sig(fmin,2), my_sig(fmin + interval,2), my_sig(fmin + 2*interval,2), my_sig(fmin + 3*interval,2), my_sig(fmax,2))    \n",
    "#     plt.imshow(f_plot,origin = 'lower',interpolation = None,vmin=my_sig(fmin,2), vmax=my_sig(fmax,2))\n",
    "\n",
    "# #     plt.xticks([0,resolution],[xmin,xmax])\n",
    "# #     plt.yticks([0,resolution],[ymin,ymax])\n",
    "#     plt.axis('off')\n",
    "#     res = np.floor(np.power(p_l_s, float(level), dtype=\"d\")*base_res-1, dtype=\"d\").astype(int)+1\n",
    "#     plt.title(\"level = {}, res = {}\".format(level+1,res))\n",
    "#     plt.colorbar(ticks=ct)\n",
    "\n",
    "# plt.show()"
   ]
  },
  {
   "cell_type": "code",
   "execution_count": 72,
   "metadata": {},
   "outputs": [],
   "source": [
    "# n_plots = 6\n",
    "# X_field_grad = X_field.to(device).clone()\n",
    "# X_field_grad.requires_grad = True\n",
    "# f_plot_feature = encoding_u(X_field_grad)\n",
    "# f_plot_disp = mlp(f_plot_feature)\n",
    "# f_plot_all = grad(f_plot_disp,f_plot_feature,\n",
    "#                    torch.ones_like(f_plot_disp).to(device),\n",
    "#                    retain_graph=True, create_graph=True)[0]\n",
    "# plot_levels = np.linspace(0,n_levels-1,n_plots).astype('int')\n",
    "# plt.figure(figsize=(14,8))\n",
    "\n",
    "# for level,i in zip(plot_levels,range(n_plots)):\n",
    "#     plt.subplot(2,3,i+1)    \n",
    "#     f_plot = f_plot_all[:,level*n_features].reshape(resolution,resolution).to('cpu').detach().numpy()\n",
    "#     fmax = f_plot.max()\n",
    "#     fmin = f_plot.min()\n",
    "#     interval = (fmax-fmin)/4\n",
    "#     ct = (my_sig(fmin,2), my_sig(fmin + interval,2), my_sig(fmin + 2*interval,2), my_sig(fmin + 3*interval,2), my_sig(fmax,2))    \n",
    "#     plt.imshow(f_plot,origin = 'lower',interpolation = None,vmin=my_sig(fmin,2), vmax=my_sig(fmax,2))\n",
    "\n",
    "#     plt.xticks([0,resolution],[xmin,xmax])\n",
    "#     plt.yticks([0,resolution],[ymin,ymax])\n",
    "#     plt.axis('off')\n",
    "#     res = np.floor(np.power(p_l_s, float(level), dtype=\"d\")*base_res-1, dtype=\"d\").astype(int)+1\n",
    "#     plt.title(\"level = {}, res = {}\".format(level+1,res))\n",
    "#     plt.colorbar(ticks=ct)\n",
    "\n",
    "# plt.show()\n",
    "# f_plot_all.to('cpu').detach().numpy().mean(axis = 0)"
   ]
  },
  {
   "cell_type": "code",
   "execution_count": 73,
   "metadata": {},
   "outputs": [],
   "source": [
    "# n_plots = 6\n",
    "# X_field_grad = X_field.to(device).clone()\n",
    "# X_field_grad.requires_grad = True\n",
    "\n",
    "# f_plot_feature = encoding_u(X_field_grad)\n",
    "# f_plot_disp = mlp(f_plot_feature)\n",
    "# dm_dh = grad(f_plot_disp,f_plot_feature,\n",
    "#                    torch.ones_like(f_plot_disp).to(device),\n",
    "#                    retain_graph=True, create_graph=True)[0].to('cpu').detach()\n",
    "# dh_dx1 = torch.zeros_like(dm_dh)\n",
    "# for level in range(n_plots):\n",
    "#     dhi_dx1 = grad(f_plot_feature[:,level],X_field_grad,\n",
    "#                        torch.ones_like(f_plot_feature[:,level]).to(device),\n",
    "#                        retain_graph=True, create_graph=True)[0][:,0].to('cpu').detach()\n",
    "#     dh_dx1[:,level] = dhi_dx1\n",
    "\n",
    "# f_plot = (dm_dh*dh_dx1).sum(axis = 1).reshape(resolution,resolution).numpy()\n",
    "\n",
    "# plt.figure(figsize=(6,6))\n",
    "\n",
    "# fmax = f_plot.max()\n",
    "# fmin = f_plot.min()\n",
    "# interval = (fmax-fmin)/4\n",
    "# ct = (my_sig(fmin,2), my_sig(fmin + interval,2), my_sig(fmin + 2*interval,2), my_sig(fmin + 3*interval,2), my_sig(fmax,2))    \n",
    "# plt.imshow(f_plot,origin = 'lower',interpolation = None,vmin=my_sig(fmin,2), vmax=my_sig(fmax,2))\n",
    "\n",
    "# plt.xticks([0,resolution],[xmin,xmax])\n",
    "# plt.yticks([0,resolution],[ymin,ymax])\n",
    "# plt.axis('off')\n",
    "# plt.colorbar(ticks=ct)\n",
    "\n",
    "# plt.show()"
   ]
  },
  {
   "cell_type": "code",
   "execution_count": 74,
   "metadata": {},
   "outputs": [],
   "source": [
    "# target_level = 12\n",
    "# # encoding.eval()\n",
    "# torch.no_grad()\n",
    "# field_y = encoding_u(X_field.to(device)).to('cpu').detach().numpy()\n",
    "# plt.figure(figsize=(10,8))\n",
    "# if target_level != 0:\n",
    "#     plt.subplot(2,2,1)\n",
    "#     f_plot = field_y[:,target_level*n_features - 1].reshape(resolution,resolution)\n",
    "#     plt.imshow(f_plot,origin = 'lower',interpolation = None)\n",
    "#     plt.xticks([0,resolution],[xmin,xmax])\n",
    "#     plt.yticks([0,resolution],[ymin,ymax])\n",
    "#     plt.axis('off')\n",
    "#     plt.title(\"level = {}, F = {}\".format(target_level,2))\n",
    "#     plt.colorbar()\n",
    "\n",
    "# plt.subplot(2,2,2)\n",
    "# f_plot = field_y[:,target_level*n_features].reshape(resolution,resolution)\n",
    "# plt.imshow(f_plot,origin = 'lower',interpolation = None)\n",
    "# plt.xticks([0,resolution],[xmin,xmax])\n",
    "# plt.yticks([0,resolution],[ymin,ymax])\n",
    "# plt.axis('off')\n",
    "# plt.title(\"level = {}, F = {}\".format(target_level+1,1))\n",
    "# plt.colorbar()\n",
    "# plt.subplot(2,2,3)\n",
    "# f_plot = field_y[:,(target_level+1)*n_features -1].reshape(resolution,resolution)\n",
    "# plt.imshow(f_plot,origin = 'lower',interpolation = None)\n",
    "# plt.xticks([0,resolution],[xmin,xmax])\n",
    "# plt.yticks([0,resolution],[ymin,ymax])\n",
    "# plt.axis('off')\n",
    "# plt.title(\"level = {}, F = {}\".format(target_level+1,2))\n",
    "# plt.colorbar()\n",
    "# if target_level != n_levels-1:\n",
    "#     plt.subplot(2,2,4)\n",
    "#     f_plot = field_y[:,(target_level+1)*n_features].reshape(resolution,resolution)\n",
    "#     plt.imshow(f_plot,origin = 'lower',interpolation = None)\n",
    "#     plt.xticks([0,resolution],[xmin,xmax])\n",
    "#     plt.yticks([0,resolution],[ymin,ymax])\n",
    "#     plt.axis('off')\n",
    "#     plt.title(\"level = {}, F = {}\".format(target_level+2,1))\n",
    "#     plt.colorbar()\n",
    "\n",
    "# plt.show()"
   ]
  }
 ],
 "metadata": {
  "kernelspec": {
   "display_name": "Python 3",
   "language": "python",
   "name": "python3"
  },
  "language_info": {
   "codemirror_mode": {
    "name": "ipython",
    "version": 3
   },
   "file_extension": ".py",
   "mimetype": "text/x-python",
   "name": "python",
   "nbconvert_exporter": "python",
   "pygments_lexer": "ipython3",
   "version": "3.7.8"
  }
 },
 "nbformat": 4,
 "nbformat_minor": 5
}
