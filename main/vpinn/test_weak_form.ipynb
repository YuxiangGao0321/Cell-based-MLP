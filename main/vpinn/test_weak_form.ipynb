{
 "cells": [
  {
   "cell_type": "code",
   "execution_count": 1,
   "metadata": {},
   "outputs": [],
   "source": [
    "import sys\n",
    "sys_path = 'D:/Research_CAE/MyTinyCUDANN/tiny-cuda-nn/main'\n",
    "sys.path.append(sys_path)\n",
    "from my_tiny_cuda import my_MLP\n",
    "from tools import ShiftedLegendrePolynomial2D, generate_grid_points, sample_all_boundary\n",
    "from gradient import grad1, grad2\n",
    "import torch\n",
    "import numpy as np\n",
    "import tinycudann as tcnn\n",
    "import json\n",
    "device = 'cuda'"
   ]
  },
  {
   "cell_type": "code",
   "execution_count": 2,
   "metadata": {},
   "outputs": [],
   "source": [
    "class Heat_equation(torch.nn.Module):\n",
    "    def __init__(self,k = 1, L = 1):\n",
    "        super().__init__()\n",
    "        self.k = k\n",
    "        self.L = L\n",
    "        self.tau = 1e-4\n",
    "    def strong_form(self,X,grad_result):\n",
    "        du_dt,d2u_dx2 = grad_result[\"du_dx\"],grad_result[\"d2u_dy2\"]\n",
    "        result = du_dt - self.k*d2u_dx2\n",
    "        return result\n",
    "    def weak_form(self,X,grad_result, grad_result_v):\n",
    "        # The shape of grad_result is (batch_size)\n",
    "        # The shape of grad_result_v is (batch_size,max_order^2)\n",
    "        du_dt,du_dx = grad_result[\"du_dx\"].unsqueeze(1),grad_result[\"du_dy\"].unsqueeze(1)\n",
    "        v, dv_dx = grad_result_v[\"u\"],grad_result_v[\"du_dy\"]\n",
    "        result = du_dt* v + du_dx * dv_dx\n",
    "        return result\n",
    "    def BC_function(self,X):\n",
    "        # return torch.sin(X[:,0]*torch.pi)*torch.sin(X[:,1]*torch.pi)\n",
    "        return self.real_solution(X)\n",
    "    def real_solution(self,X):\n",
    "        return torch.exp(-self.k*(torch.pi/self.L)**2*X[:,0])*torch.sin(X[:,1]*torch.pi/self.L)\n",
    "\n",
    "class real_solution(torch.nn.Module):\n",
    "    def __init__(self,k = 1, L = 1):\n",
    "        super().__init__()\n",
    "        self.equation = Heat_equation(k,L)\n",
    "    def forward(self,X):\n",
    "        return self.equation.real_solution(X)"
   ]
  },
  {
   "cell_type": "code",
   "execution_count": 30,
   "metadata": {},
   "outputs": [],
   "source": [
    "equation = Heat_equation()\n",
    "grid_points_resolution = 300\n",
    "base_grid_points = generate_grid_points(grid_points_resolution, field_min = 0, field_max = 1 - 1/grid_points_resolution)\n",
    "model_real = real_solution()\n",
    "batch_size = base_grid_points.shape[0]\n",
    "diff_info = grad1(model_real, batch_size)\n",
    "diff2_info = grad2(model_real, batch_size)\n",
    "diff2_info.to_device(device)\n",
    "grad_result_2 = diff2_info(base_grid_points)\n",
    "du_dx,du_dy,u = diff_info.forward_2d(base_grid_points)\n",
    "grad_result = {\"du_dx\":du_dx,\"du_dy\":du_dy,\"u\":u}\n",
    "max_order = 10\n",
    "test_function = ShiftedLegendrePolynomial2D(max_order).to(device)\n",
    "v = test_function(base_grid_points[:,0],base_grid_points[:,1])\n",
    "dv_dx, dv_dy = test_function.derivatives(base_grid_points[:,0],base_grid_points[:,1])\n",
    "grad_result_v = {\"u\":v,\"du_dx\":dv_dx,\"du_dy\":dv_dy}\n",
    "# dv_dy = torch.autograd.grad(v,base_grid_points,torch.ones_like(v),create_graph = True)\n",
    "# grad_result_v = {\"u\":v,\"du_dy\":dv_dy}\n",
    "# v.shape,dv_dy"
   ]
  },
  {
   "cell_type": "code",
   "execution_count": 15,
   "metadata": {},
   "outputs": [
    {
     "data": {
      "text/plain": [
       "tensor(3.2022e-14, device='cuda:0', grad_fn=<MeanBackward0>)"
      ]
     },
     "execution_count": 15,
     "metadata": {},
     "output_type": "execute_result"
    }
   ],
   "source": [
    "PDE_strong_residual= equation.strong_form(base_grid_points,grad_result_2)\n",
    "(PDE_strong_residual**2).mean()"
   ]
  },
  {
   "cell_type": "code",
   "execution_count": 31,
   "metadata": {},
   "outputs": [
    {
     "data": {
      "text/plain": [
       "tensor(13.8145, device='cuda:0', grad_fn=<MeanBackward0>)"
      ]
     },
     "execution_count": 31,
     "metadata": {},
     "output_type": "execute_result"
    }
   ],
   "source": [
    "PDE_residual = equation.weak_form(base_grid_points,grad_result,grad_result_v)\n",
    "(PDE_residual**2).mean()"
   ]
  }
 ],
 "metadata": {
  "kernelspec": {
   "display_name": "Python 3",
   "language": "python",
   "name": "python3"
  },
  "language_info": {
   "codemirror_mode": {
    "name": "ipython",
    "version": 3
   },
   "file_extension": ".py",
   "mimetype": "text/x-python",
   "name": "python",
   "nbconvert_exporter": "python",
   "pygments_lexer": "ipython3",
   "version": "3.7.8"
  }
 },
 "nbformat": 4,
 "nbformat_minor": 2
}
