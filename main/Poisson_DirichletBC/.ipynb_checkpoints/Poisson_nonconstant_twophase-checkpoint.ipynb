{
 "cells": [
  {
   "cell_type": "code",
   "execution_count": 1,
   "metadata": {},
   "outputs": [],
   "source": [
    "import sys\n",
    "syspath = 'D:/Research_CAE/MyTinyCUDANN/tiny-cuda-nn/my_job'\n",
    "sys.path.append(syspath)\n",
    "from my_tiny_cuda import my_MLP,my_sin,weights_init_uniform,grad1\n",
    "from my_tiny_cuda import my_rmse,plot_diff,plot_result_ele,my_relativeL2,my_sig,plot_result_node\n",
    "from my_tiny_cuda import my_encoding_linear as my_encoding\n",
    "from my_tiny_cuda import fdiff1 as fdiff\n",
    "# from Scale_cpp import compute_scale_cpp\n",
    "import commentjson as json\n",
    "import tinycudann as tcnn\n",
    "\n",
    "import os\n",
    "import torch\n",
    "from torch.autograd import grad\n",
    "import numpy as np\n",
    "import time\n",
    "from matplotlib import pyplot as plt\n",
    "import matplotlib.colors as colors\n",
    "device = torch.device('cuda' if torch.cuda.is_available() else 'cpu')\n",
    "my_dtype = torch.float32\n",
    "with open(os.path.join(syspath,\"config_hash.json\")) as f:\n",
    "    config = json.load(f)"
   ]
  },
  {
   "cell_type": "code",
   "execution_count": null,
   "metadata": {},
   "outputs": [],
   "source": [
    "import sys\n",
    "syspath = 'D:/Research_CAE/MyTinyCUDANN/tiny-cuda-nn/main'\n",
    "sys.path.append(syspath)"
   ]
  },
  {
   "cell_type": "code",
   "execution_count": 2,
   "metadata": {},
   "outputs": [],
   "source": [
    "class var_energy(torch.nn.Module):\n",
    "    def __init__(self):\n",
    "        super().__init__()\n",
    "    def f(self,x,y):\n",
    "        result = torch.exp(-x)*(x-2+y**3+6*y)\n",
    "        return result\n",
    "    def forward(self,X,u,du_dx,du_dy):\n",
    "        x,y = X[:,0],X[:,1]\n",
    "        result = 1/2*(du_dx**2 + du_dy**2) + self.f(x,y)*u\n",
    "        return result\n",
    "\n",
    "class BC_function(torch.nn.Module):\n",
    "    def __init__(self):\n",
    "        super().__init__()\n",
    "    def forward(self,X):\n",
    "        x,y = X[:,0],X[:,1]\n",
    "        result = torch.exp(-x)*(x+y**3)\n",
    "        return result\n",
    "true_func = BC_function()"
   ]
  },
  {
   "cell_type": "code",
   "execution_count": 3,
   "metadata": {},
   "outputs": [
    {
     "name": "stdout",
     "output_type": "stream",
     "text": [
      "Max res: [16 17 20 22 25 28 31 35 39 44 49 55 62 69 78]\n",
      "done\n"
     ]
    }
   ],
   "source": [
    "n_levels = 16\n",
    "p_l_s = 1.12\n",
    "n_features = 2\n",
    "base_res = 16\n",
    "spectral_norm = True\n",
    "# spectral_norm = False\n",
    "config[\"encoding\"][\"n_levels\"] = n_levels\n",
    "# config[\"encoding\"][\"log2_hashmap_size\"] = log2_hashmap_size\n",
    "config[\"encoding\"][\"n_features_per_level\"] = n_features\n",
    "config[\"encoding\"][\"per_level_scale\"]=p_l_s\n",
    "config[\"encoding\"][\"base_resolution\"]=base_res\n",
    "config[\"encoding\"][\"type\"]=\"Dense\"\n",
    "config[\"encoding\"][\"interpolation\"]=\"Linear\"\n",
    "config[\"encoding\"][\"bc_side\"]=\"left\"\n",
    "# config[\"encoding\"][\"interpolation\"]=\"Smoothstep\"\n",
    "print(\"Max res:\",(base_res*p_l_s**(np.arange(0,n_levels-1))).astype('int'))\n",
    "# activation = torch.nn.Tanh()\n",
    "activation = torch.nn.SiLU()\n",
    "# activation = my_sin()\n",
    "n_hidden = 2\n",
    "width = 32\n",
    "mlp = my_MLP(activation=activation,n_input_dims=int(n_levels*n_features),\n",
    "             n_output_dims=1,n_hidden = n_hidden,width = width,\n",
    "             spectral_norm=spectral_norm,dtype = my_dtype).to(device)\n",
    "# mlp.apply(weights_init_uniform)\n",
    "\n",
    "# config[\"encoding\"][\"bc_side\"]=\"left\"\n",
    "encoding = tcnn.Encoding1(2, config[\"encoding\"],dtype=my_dtype)\n",
    "model = torch.nn.Sequential(encoding,mlp)\n",
    "\n",
    "MSE = torch.nn.MSELoss().to(device)\n",
    "MAE = torch.nn.L1Loss().to(device)\n",
    "\n",
    "print(\"done\")"
   ]
  },
  {
   "cell_type": "code",
   "execution_count": 4,
   "metadata": {},
   "outputs": [
    {
     "data": {
      "text/plain": [
       "torch.Size([8000, 2])"
      ]
     },
     "execution_count": 4,
     "metadata": {},
     "output_type": "execute_result"
    }
   ],
   "source": [
    "batch_size_BC = 2000\n",
    "field_min,field_max = 0,1\n",
    "bot_bc = torch.zeros([batch_size_BC,2],dtype=my_dtype, device = 'cuda')\n",
    "left_bc = torch.zeros([batch_size_BC,2],dtype=my_dtype, device = 'cuda')\n",
    "bc_sample_points = torch.arange(field_min, field_max, 1/batch_size_BC,dtype=my_dtype, device = 'cuda')\n",
    "bot_bc[:,0] = bc_sample_points\n",
    "left_bc[:,1] = bc_sample_points\n",
    "x_bc_const_lr = torch.tensor([0, 1],dtype=my_dtype, device = 'cuda')\n",
    "x_bc_const_tb = torch.tensor([1, 0],dtype=my_dtype, device = 'cuda')\n",
    "X_bot = bot_bc + 0.5*x_bc_const_tb/batch_size_BC\n",
    "X_left = left_bc + 0.5*x_bc_const_lr/batch_size_BC\n",
    "\n",
    "X_top = X_bot + x_bc_const_lr\n",
    "X_right = X_left + x_bc_const_tb\n",
    "X_boundaries = torch.cat((X_bot,X_left,X_top,X_right), dim = 0)\n",
    "X_boundaries.shape"
   ]
  },
  {
   "cell_type": "code",
   "execution_count": 5,
   "metadata": {},
   "outputs": [
    {
     "name": "stdout",
     "output_type": "stream",
     "text": [
      "Iter: 100 loss_pretrain: 4.279648055671714e-05 \n",
      " bc_loss: 4.279648055671714e-05\n",
      "Iter: 200 loss_pretrain: 2.4950040256044304e-07 \n",
      " bc_loss: 2.4950040256044304e-07\n",
      "Iter: 300 loss_pretrain: 2.8441553112656948e-08 \n",
      " bc_loss: 2.8441553112656948e-08\n",
      "Iter: 400 loss_pretrain: 9.655515498252498e-09 \n",
      " bc_loss: 9.655515498252498e-09\n"
     ]
    },
    {
     "data": {
      "text/plain": [
       "3.532538890838623"
      ]
     },
     "execution_count": 5,
     "metadata": {},
     "output_type": "execute_result"
    }
   ],
   "source": [
    "# train the MLPs for a pretrain function (f(x,y) = [x,y])\n",
    "n_steps_pretrain = 400\n",
    "n_step_output_pretrain = 100\n",
    "n_step_half_lr_pretrain = 100\n",
    "pretrain_batch_size = 500**2\n",
    "\n",
    "pretrain_func = BC_function()\n",
    "diff_info_u = grad1(model, pretrain_batch_size)\n",
    "# diff_info_f = grad1(pretrain_func, pretrain_batch_size)\n",
    "\n",
    "# fu_x,fu_y,fu = diff_info_f.forward_2d(torch.rand([pretrain_batch_size, 2], device = 'cuda'))\n",
    "f_boundaries = pretrain_func(X_boundaries)\n",
    "\n",
    "\n",
    "optimizer_pretrain = torch.optim.Adam([\n",
    "    {'params':encoding.parameters()},\n",
    "    {'params':mlp.parameters(),'weight_decay':1e-6},\n",
    "], lr=0.005, eps=1e-15)\n",
    "# for p in mlp.parameters():\n",
    "#     p.requires_grad = False\n",
    "model.train()\n",
    "start = time.time()\n",
    "# X_I_pretrain = torch.rand([pretrain_batch_size, 2],dtype=my_dtype, device = 'cuda')\n",
    "for i in range(1, n_steps_pretrain+1):\n",
    "    \n",
    "    optimizer_pretrain.zero_grad()\n",
    "    \n",
    "    #X_I_pretrain = torch.rand([pretrain_batch_size, 2],dtype=my_dtype, device = 'cuda')\n",
    "\n",
    "\n",
    "    \n",
    "    #pred_pretrain = model(X_I_pretrain)\n",
    "    #func_pretrain = pretrain_func(X_I_pretrain)\n",
    "    bc_loss = MSE(model(X_boundaries),f_boundaries)\n",
    "    #loss_pretrain = MSE(pred_pretrain,func_pretrain) + bc_loss\n",
    "    loss_pretrain = bc_loss\n",
    "    \n",
    "#     u_x,u_y,u = diff_info_u.forward_2d(X_I_pretrain)\n",
    "#     grad_loss_u = MSE(u_x,fu_x)+MSE(u_y,fu_y)\n",
    "#     bc_loss_u = MSE(modelu(X_left),f_left_u)\n",
    "#     loss_u_pretrain = bc_loss_u+grad_loss_u\n",
    "    \n",
    "    loss_pretrain.backward()\n",
    "    optimizer_pretrain.step()\n",
    "    \n",
    "    if i%n_step_output_pretrain == 0:\n",
    "        print('Iter:',i,\n",
    "              'loss_pretrain:',loss_pretrain.item(),\n",
    "             '\\n bc_loss:',bc_loss.item(),)\n",
    "    if i%n_step_half_lr_pretrain == 0:\n",
    "        for _ in optimizer_pretrain.param_groups:\n",
    "            _['lr'] = _['lr']/2\n",
    "end = time.time()\n",
    "first_phase = end-start\n",
    "first_phase"
   ]
  },
  {
   "cell_type": "code",
   "execution_count": 6,
   "metadata": {},
   "outputs": [],
   "source": [
    "resolution = 501\n",
    "field_min,field_max = 0,1\n",
    "x1_list = np.linspace(field_min, field_max, resolution)\n",
    "x2_list = np.linspace(field_min, field_max, resolution)\n",
    "X1,X2 = np.meshgrid(x1_list,x2_list)\n",
    "X_field = torch.tensor(np.concatenate((X1.reshape(-1,1),X2.reshape(-1,1)),axis = 1)).float().cuda()\n",
    "\n",
    "u_real = true_func(X_field).to('cpu').detach().numpy()\n",
    "u_real_plot = u_real.reshape(resolution,resolution)"
   ]
  },
  {
   "cell_type": "code",
   "execution_count": 7,
   "metadata": {},
   "outputs": [],
   "source": [
    "# model.eval()\n",
    "# torch.no_grad()\n",
    "# pred_plot = model(X_field).to('cpu').detach().numpy().reshape(resolution,resolution)\n",
    "# func_plot = pretrain_func(X_field).to('cpu').detach().numpy().reshape(resolution,resolution)"
   ]
  },
  {
   "cell_type": "code",
   "execution_count": 8,
   "metadata": {},
   "outputs": [],
   "source": [
    "# ifsave = False\n",
    "# plot_diff(pred_plot,func_plot,field_name = \"gridMLP\",f_name = 'pretrain',ifsave = ifsave)"
   ]
  },
  {
   "cell_type": "code",
   "execution_count": 9,
   "metadata": {},
   "outputs": [],
   "source": [
    "with torch.no_grad():\n",
    "    for name, p in encoding.named_parameters():\n",
    "        if name == 'params_left':\n",
    "            grid_left = p\n",
    "        elif name == 'params_bottom':\n",
    "            grid_bottom = p\n",
    "        elif name == 'params_right':\n",
    "            grid_right = p\n",
    "        elif name == 'params_top':\n",
    "            grid_top = p"
   ]
  },
  {
   "cell_type": "code",
   "execution_count": 10,
   "metadata": {},
   "outputs": [
    {
     "name": "stdout",
     "output_type": "stream",
     "text": [
      "bc_loss: 9.552106661203652e-09\n"
     ]
    }
   ],
   "source": [
    "# New grids\n",
    "encoding = tcnn.Encoding1(2, config[\"encoding\"],dtype=my_dtype)\n",
    "model = torch.nn.Sequential(encoding,mlp)\n",
    "with torch.no_grad():\n",
    "    for name, p in encoding.named_parameters():\n",
    "        if name == 'params_inner':\n",
    "            p.requires_grad = True\n",
    "        elif name == 'params_left':\n",
    "            p[:] = grid_left[:]\n",
    "            p.requires_grad = False\n",
    "        elif name == 'params_bottom':\n",
    "            p[:] = grid_bottom[:]\n",
    "            p.requires_grad = False\n",
    "        elif name == 'params_right':\n",
    "            p[:] = grid_right[:]\n",
    "            p.requires_grad = False \n",
    "        elif name == 'params_top':\n",
    "            p[:] = grid_top[:]\n",
    "            p.requires_grad = False\n",
    "for p in mlp.parameters():\n",
    "    p.requires_grad = False\n",
    "mlp.eval()\n",
    "\n",
    "with torch.no_grad():\n",
    "    pred_bc = model(X_boundaries)\n",
    "    func_bc = pretrain_func(X_boundaries)\n",
    "    loss_bc = MSE(pred_bc,func_bc)\n",
    "    print('bc_loss:',loss_bc.item())"
   ]
  },
  {
   "cell_type": "code",
   "execution_count": 11,
   "metadata": {},
   "outputs": [
    {
     "name": "stdout",
     "output_type": "stream",
     "text": [
      "params_inner\n"
     ]
    }
   ],
   "source": [
    "opti_group = []\n",
    "with torch.no_grad():\n",
    "    for name, p in encoding.named_parameters():\n",
    "        if p.requires_grad:\n",
    "            opti_group.append({\n",
    "                'params':p\n",
    "            })\n",
    "            print(name)"
   ]
  },
  {
   "cell_type": "code",
   "execution_count": 12,
   "metadata": {
    "scrolled": true
   },
   "outputs": [
    {
     "name": "stdout",
     "output_type": "stream",
     "text": [
      "Iter: 600 inner_loss: 1.1372042894363403 \n",
      " bc_loss: 9.552106661203652e-09 u_L2: 0.0021458112\n",
      "Iter: 1200 inner_loss: 1.1240811347961426 \n",
      " bc_loss: 9.552106661203652e-09 u_L2: 0.001467526\n",
      "Iter: 1800 inner_loss: 1.1280978918075562 \n",
      " bc_loss: 9.552106661203652e-09 u_L2: 0.0010137969\n",
      "Iter: 2400 inner_loss: 1.129294514656067 \n",
      " bc_loss: 9.552106661203652e-09 u_L2: 0.0007298682\n",
      "Iter: 3000 inner_loss: 1.127900242805481 \n",
      " bc_loss: 9.552106661203652e-09 u_L2: 0.00055425125\n",
      "Iter: 3600 inner_loss: 1.1193242073059082 \n",
      " bc_loss: 9.552106661203652e-09 u_L2: 0.00028032679\n",
      "Iter: 4200 inner_loss: 1.1253635883331299 \n",
      " bc_loss: 9.552106661203652e-09 u_L2: 0.00022745972\n",
      "Iter: 4800 inner_loss: 1.1250510215759277 \n",
      " bc_loss: 9.552106661203652e-09 u_L2: 0.00017335615\n",
      "Iter: 5400 inner_loss: 1.1232248544692993 \n",
      " bc_loss: 9.552106661203652e-09 u_L2: 0.0001466745\n",
      "Iter: 6000 inner_loss: 1.1186869144439697 \n",
      " bc_loss: 9.552106661203652e-09 u_L2: 0.00013092313\n"
     ]
    },
    {
     "data": {
      "text/plain": [
       "55.049906969070435"
      ]
     },
     "execution_count": 12,
     "metadata": {},
     "output_type": "execute_result"
    }
   ],
   "source": [
    "n_steps = 6000\n",
    "n_step_output = 600\n",
    "n_step_half_lr = 500\n",
    "\n",
    "X_I_res = 300\n",
    "batch_size = X_I_res**2\n",
    "\n",
    "optimizer = torch.optim.Adam(opti_group, lr=0.005, eps=1e-15)\n",
    "\n",
    "energy = var_energy()\n",
    "\n",
    "\n",
    "diff_info = grad1(model, batch_size)\n",
    "\n",
    "encoding.train()\n",
    "start = time.time()\n",
    "# X_I = torch.rand([batch_size, 2],dtype=my_dtype, device = 'cuda')\n",
    "# X_t = X_I[:,0]\n",
    "test_loss = []\n",
    "for i in range(1, n_steps+1):\n",
    "    # Boundary\n",
    "    \n",
    "    \n",
    "    \n",
    "\n",
    "    # Inner\n",
    "    X_I = torch.rand([batch_size, 2],dtype=my_dtype, device = 'cuda')\n",
    "#     X_I[:,0] = X_t/10 + int((i%1000)/600)*0.1\n",
    "#     X_I = X_I0 + torch.rand([1,2],dtype=my_dtype, device = 'cuda')/sample_resolution\n",
    "#     u_x,u_y,v_x,v_y = diff_info.forward_2d_uv_plot(X_I)\n",
    "    u_x,u_y,u = diff_info.forward_2d(X_I)\n",
    "\n",
    "\n",
    "    inner_loss = energy(X_I,u,u_x,u_y).mean()\n",
    "    loss = inner_loss\n",
    "\n",
    "    optimizer.zero_grad()\n",
    "    loss.backward()\n",
    "    optimizer.step()\n",
    "           \n",
    "\n",
    "    if i%n_step_output == 0:\n",
    "        encoding.eval()\n",
    "        with torch.no_grad():\n",
    "            u_pred = model(X_field).to('cpu').detach().numpy()\n",
    "            #u_pred_plot = u_pred.reshape(resolution,resolution)\n",
    "            u_error = my_relativeL2(u_pred,u_real)\n",
    "            pred_bc = model(X_boundaries)\n",
    "            loss_bc = MSE(pred_bc,func_bc)\n",
    "        print('Iter:',i,'inner_loss:',inner_loss.item(),\"\\n\",\n",
    "              'bc_loss:',loss_bc.item(),'u_L2:',u_error,)\n",
    "        test_loss.append([time.time()-start+first_phase, i,u_error])\n",
    "        encoding.train() \n",
    "\n",
    "    if i%n_step_half_lr == 0:\n",
    "        for _ in optimizer.param_groups:\n",
    "            _['lr'] = _['lr']/2\n",
    "\n",
    "end = time.time()\n",
    "end-start+first_phase"
   ]
  },
  {
   "cell_type": "code",
   "execution_count": 13,
   "metadata": {},
   "outputs": [],
   "source": [
    "# np.savetxt(\"data/grid_two_phase.txt\", np.array(test_loss))\n",
    "# np.savetxt(\"data/Poisson_allpbc_n_width={}.txt\".format(width), np.array(test_loss))\n",
    "# np.savetxt(\"data/grid_two_phase_n_hidden={}_width={}.txt\".format(n_hidden,width), np.array(test_loss))"
   ]
  },
  {
   "cell_type": "code",
   "execution_count": 14,
   "metadata": {},
   "outputs": [],
   "source": [
    "# model.eval()\n",
    "# torch.no_grad()\n",
    "# field = (model(X_field)).to('cpu').detach().numpy()\n",
    "# X_field_cpu = X_field.to('cpu')\n",
    "# field[X_field_cpu.square().sum(axis = 1)<0.25**2,:] = 0\n",
    "# field_u = field[:,0]\n",
    "# field_v = field[:,1]\n",
    "# u_plot = field_u.reshape(resolution,resolution)\n",
    "# v_plot = field_v.reshape(resolution,resolution)\n",
    "# # ground_truth_u_plot = ground_truth_u.reshape(resolution,resolution)\n",
    "# # ground_truth_v_plot = ground_truth_v.reshape(resolution,resolution)"
   ]
  },
  {
   "cell_type": "code",
   "execution_count": 15,
   "metadata": {
    "scrolled": true
   },
   "outputs": [],
   "source": [
    "# u_rmse = 0#my_rmse(u_plot.reshape(-1),ground_truth_u)\n",
    "# u_rmse = float(np.format_float_positional(u_rmse,precision = 3,unique=False, fractional=False, trim='k'))\n",
    "# v_rmse = 0#my_rmse(v_plot.reshape(-1),ground_truth_v)\n",
    "# v_rmse = float(np.format_float_positional(v_rmse,precision = 3,unique=False, fractional=False, trim='k'))\n",
    "\n",
    "# plt.rcParams.update({'font.size': 15})\n",
    "# fig = plt.figure(figsize=(10,4))\n",
    "\n",
    "# plt.subplot(121)\n",
    "# fmax = float(np.format_float_positional(u_plot.max(),precision = 3,unique=False, fractional=False, trim='k'))\n",
    "# fmin = float(np.format_float_positional(u_plot.min(),precision = 3,unique=False, fractional=False, trim='k'))\n",
    "# # if fmin<-2e-4:\n",
    "# #     ct = (fmin, 0.5*fmin, 0, 0.5*fmax, fmax)\n",
    "# # else:\n",
    "# interval = (fmax-fmin)/4\n",
    "# ct = (fmin, fmin + interval, fmin + 2*interval, fmin + 3*interval, fmax)\n",
    "# plt.imshow(u_plot,origin = 'lower',norm=colors.TwoSlopeNorm(vcenter=ct[2],vmin = ct[0],vmax = ct[-1]),\n",
    "#           interpolation = None)\n",
    "# # plt.imshow(f_plot,origin = 'lower',interpolation = None)\n",
    "# # plt.xticks([0,resolution],[xmin,xmax])\n",
    "# # plt.yticks([0,resolution],[ymin,ymax])\n",
    "# plt.title(\"ux (rmse:{})\".format(u_rmse))\n",
    "# plt.colorbar(ticks=ct)\n",
    "# plt.axis('off')\n",
    "\n",
    "# plt.subplot(122)\n",
    "# fmax = float(np.format_float_positional(v_plot.max(),precision = 3,unique=False, fractional=False, trim='k'))\n",
    "# fmin = float(np.format_float_positional(v_plot.min(),precision = 3,unique=False, fractional=False, trim='k'))\n",
    "# interval = (fmax-fmin)/4\n",
    "# ct = (fmin, fmin + interval, fmin + 2*interval, fmin + 3*interval, fmax)\n",
    "# plt.imshow(v_plot,origin = 'lower',#norm=colors.TwoSlopeNorm(vcenter=ct[2],vmin = ct[0],vmax = ct[-1]),\n",
    "#           interpolation = None)\n",
    "# # plt.imshow(f_plot,origin = 'lower',interpolation = None)\n",
    "# # plt.xticks([0,resolution],[xmin,xmax])\n",
    "# # plt.yticks([0,resolution],[ymin,ymax])\n",
    "# plt.title(\"uy (rmse:{})\".format(v_rmse))\n",
    "# # plt.colorbar(ticks=ct)\n",
    "# plt.colorbar()\n",
    "# plt.axis('off')\n",
    "# fig.tight_layout()\n",
    "# # plt.savefig('figs/encoding_2grids_fiber.jpg',dpi = 300)\n",
    "# plt.show()"
   ]
  },
  {
   "cell_type": "code",
   "execution_count": 16,
   "metadata": {},
   "outputs": [],
   "source": [
    "model.eval()\n",
    "torch.no_grad()\n",
    "pred = model(X_field).to('cpu').detach().numpy().reshape(resolution,resolution)"
   ]
  },
  {
   "cell_type": "code",
   "execution_count": 17,
   "metadata": {},
   "outputs": [
    {
     "data": {
      "image/png": "[encoded data removed]",
      "text/plain": [
       "<Figure size 1080x288 with 6 Axes>"
      ]
     },
     "metadata": {
      "needs_background": "light"
     },
     "output_type": "display_data"
    }
   ],
   "source": [
    "ifsave = False\n",
    "plot_diff(pred,u_real_plot,field_name = \"gridMLP\",f_name = '',ifsave = ifsave)"
   ]
  },
  {
   "cell_type": "code",
   "execution_count": 18,
   "metadata": {},
   "outputs": [],
   "source": [
    "# plot_result_node(f = pred_v,f0 = ground_truth_v,x = (x1,x2),mesh = tri,name = \"uy\",f_name = 'uy',ifsave = ifsave)"
   ]
  },
  {
   "cell_type": "code",
   "execution_count": 19,
   "metadata": {},
   "outputs": [],
   "source": [
    "# #Points for plot\n",
    "# resolution = 2501\n",
    "# field_min,field_max = 0,1\n",
    "# x1_list = np.linspace(field_min, field_max, resolution)\n",
    "# x2_list = np.linspace(field_min, field_max, resolution)\n",
    "# X1,X2 = np.meshgrid(x1_list,x2_list)\n",
    "# X_field = torch.tensor(np.concatenate((X1.reshape(-1,1),X2.reshape(-1,1)),axis = 1)).float().cuda()\n",
    "\n",
    "\n",
    "# in_hole = ((X_field[:,0]**2+X_field[:,1]**2-r_hole**2)<=0).to('cpu').numpy().reshape(resolution,resolution)\n",
    "# disp_x = modelu(X_field)\n",
    "# disp_x = disp_x.to('cpu').detach().numpy().reshape(resolution,resolution)\n",
    "\n",
    "\n",
    "# dux_dx = np.diff(disp_x)*(resolution-1)\n",
    "# dux_dx[in_hole[:,:-1]] = 0\n",
    "\n",
    "# X1_diffx = torch.tensor(X1[:,:-1]+1/(resolution-1)/2)\n",
    "# X2_diffx = torch.tensor(X2[:,:-1])\n",
    "# real_exx = domain.strain_tensor(X1_diffx,X2_diffx)[0].numpy()\n",
    "# real_exx[in_hole[:,:-1]] = 0"
   ]
  },
  {
   "cell_type": "code",
   "execution_count": 20,
   "metadata": {},
   "outputs": [],
   "source": [
    "# disp_y = modelv(X_field)\n",
    "# disp_y = disp_y.to('cpu').detach().numpy().reshape(resolution,resolution)\n",
    "\n",
    "\n",
    "# duy_dy = np.diff(disp_y,axis = 0)*(resolution-1)\n",
    "# duy_dy[in_hole[:-1,:]] = 0\n",
    "\n",
    "# X1_diffy = torch.tensor(X1[:-1,:])\n",
    "# X2_diffy = torch.tensor(X2[:-1,:]+1/(resolution-1)/2)\n",
    "# real_eyy = domain.strain_tensor(X1_diffy,X2_diffy)[1].numpy()\n",
    "# real_eyy[in_hole[:-1,:]] = 0"
   ]
  },
  {
   "cell_type": "code",
   "execution_count": 21,
   "metadata": {},
   "outputs": [],
   "source": [
    "# ifsave_FDM = False\n",
    "# plot_diff(dux_dx,real_exx,\"exx_FDM\",\"diff_exx_fdm\",ifsave = ifsave_FDM)"
   ]
  },
  {
   "cell_type": "code",
   "execution_count": 22,
   "metadata": {},
   "outputs": [],
   "source": [
    "# plot_diff(duy_dy,real_eyy,\"eyy_FDM\",\"diff_eyy_fdm\",ifsave = ifsave_FDM)"
   ]
  },
  {
   "cell_type": "code",
   "execution_count": 23,
   "metadata": {},
   "outputs": [],
   "source": [
    "# disp_y = modelv(X_field)\n",
    "# # disp_y[(X_field[:,0]**2+X_field[:,1]**2-r_hole**2)<=0] = 0\n",
    "# disp_y = disp_y.to('cpu').detach().numpy().reshape(resolution,resolution)\n",
    "# duy_dy = np.diff(disp_y,axis = 0)*(resolution-1)\n",
    "# duy_dy[in_hole[:-1,:]] = 0\n",
    "# plt.imshow(duy_dy,origin = 'lower',vmin = -0.1,vmax = 0.01)\n",
    "# plt.colorbar()\n",
    "# plt.title(\"eyy_finite_diff\")\n",
    "# plt.savefig('figs/eyy_finite_diff.jpg', dpi = 500)"
   ]
  },
  {
   "cell_type": "code",
   "execution_count": 24,
   "metadata": {},
   "outputs": [],
   "source": [
    "# ifsave = False\n",
    "# plot_diff(u_plot,ground_truth_u_plot,\"ux\",\"diff_ux_gridsample\",ifsave = ifsave)"
   ]
  },
  {
   "cell_type": "code",
   "execution_count": 25,
   "metadata": {},
   "outputs": [],
   "source": [
    "# plot_diff(v_plot,ground_truth_v_plot,\"uy\",\"diff_uy_gridsample\",ifsave = ifsave)"
   ]
  },
  {
   "cell_type": "code",
   "execution_count": 26,
   "metadata": {
    "scrolled": true
   },
   "outputs": [],
   "source": [
    "# X1_autodiff = torch.tensor(X1[:-1,:-1]+1/(resolution-1)/2)\n",
    "# X2_autodiff = torch.tensor(X2[:-1,:-1]+1/(resolution-1)/2)\n",
    "# in_hole_autodiff = ((X1_autodiff**2+X2_autodiff**2-r_hole**2)<=0).to('cpu').numpy().reshape(resolution-1,resolution-1)\n",
    "\n",
    "# X_IP = torch.cat((X1_autodiff.reshape(-1,1),X2_autodiff.reshape(-1,1)),axis = 1).float().cuda()\n",
    "\n",
    "# point_num = X_IP.shape[0]\n",
    "# pred_e11_IP = np.zeros(point_num)\n",
    "# pred_e12_IP = np.zeros(point_num)\n",
    "# pred_e22_IP = np.zeros(point_num)\n",
    "# plot_batch_size = 100000\n",
    "\n",
    "# # diff_info_plot = grad1(model, plot_batch_size)\n",
    "# i_batch = 0\n",
    "# i_1 = 0\n",
    "# for X_plot_batch in X_IP.split(plot_batch_size):\n",
    "#     i_1 = i_batch+X_plot_batch.shape[0]\n",
    "#     e11_IP,e12_IP = diff_info_u.forward_2d_plot(X_plot_batch)\n",
    "#     e21_IP,e22_IP = diff_info_v.forward_2d_plot(X_plot_batch)\n",
    "#     # e11_IP,e12_IP,e21_IP,e22_IP =diff_info_plot.forward_2d_uv_plot(X_plot_batch)\n",
    "\n",
    "#     e11_IP = e11_IP.to('cpu').detach().numpy()\n",
    "#     e22_IP = e22_IP.to('cpu').detach().numpy()\n",
    "#     e12_IP = ((e12_IP+e21_IP)/2).to('cpu').detach().numpy()\n",
    "    \n",
    "#     pred_e11_IP[i_batch:i_1] = e11_IP\n",
    "#     pred_e12_IP[i_batch:i_1] = e12_IP\n",
    "#     pred_e22_IP[i_batch:i_1] = e22_IP\n",
    "    \n",
    "#     i_batch = i_1\n",
    "#     print(i_batch,point_num)\n",
    "    \n",
    "# # rmse_e11 = my_rmse(pred_e11_IP, true_e11_IP)\n",
    "# # rmse_e22 = my_rmse(pred_e22_IP, true_e22_IP)\n",
    "# # rmse_e12 = my_rmse(pred_e12_IP, true_e12_IP)\n",
    "\n",
    "# # rmse_e11 = float(np.format_float_positional(rmse_e11,precision = 3,unique=False, fractional=False, trim='k'))\n",
    "# # rmse_e22 = float(np.format_float_positional(rmse_e22,precision = 3,unique=False, fractional=False, trim='k'))\n",
    "# # rmse_e12 = float(np.format_float_positional(rmse_e12,precision = 3,unique=False, fractional=False, trim='k'))\n",
    "\n",
    "# # x1 = np.loadtxt(real_path + \"x1_plot.txt\")\n",
    "# # x2 = np.loadtxt(real_path + \"x2_plot.txt\")\n",
    "# # tri = np.loadtxt(real_path + \"tri_plot.txt\")"
   ]
  },
  {
   "cell_type": "code",
   "execution_count": 27,
   "metadata": {},
   "outputs": [],
   "source": [
    "\n",
    "# # e11_IP,e12_IP = diff_info_u.forward_2d_plot(X_IP)\n",
    "# # e21_IP,e22_IP = diff_info_v.forward_2d_plot(X_IP)\n",
    "\n",
    "# # pred_e11_IP = e11_IP.to('cpu').detach().numpy().reshape(resolution-1,resolution-1)\n",
    "# # pred_e22_IP = e22_IP.to('cpu').detach().numpy().reshape(resolution-1,resolution-1)\n",
    "# # pred_e12_IP = ((e12_IP+e21_IP)/2).to('cpu').detach().numpy().reshape(resolution-1,resolution-1)\n",
    "\n",
    "\n",
    "# pred_e11_IP = pred_e11_IP.reshape(resolution-1,resolution-1)\n",
    "# pred_e22_IP = pred_e22_IP.reshape(resolution-1,resolution-1)\n",
    "# pred_e12_IP = pred_e12_IP.reshape(resolution-1,resolution-1)\n",
    "\n",
    "# pred_e11_IP[in_hole_autodiff] = 0\n",
    "# pred_e22_IP[in_hole_autodiff] = 0\n",
    "# pred_e12_IP[in_hole_autodiff] = 0\n",
    "\n",
    "# true_e11_IP,true_e22_IP,true_e12_IP = domain.strain_tensor(X_IP[:,0],X_IP[:,1])\n",
    "# true_e11_IP = true_e11_IP.to('cpu').detach().numpy().reshape(resolution-1,resolution-1)\n",
    "# true_e22_IP = true_e22_IP.to('cpu').detach().numpy().reshape(resolution-1,resolution-1)\n",
    "# true_e12_IP = true_e12_IP.to('cpu').detach().numpy().reshape(resolution-1,resolution-1)\n",
    "\n",
    "# true_e11_IP[in_hole_autodiff] = 0\n",
    "# true_e22_IP[in_hole_autodiff] = 0\n",
    "# true_e12_IP[in_hole_autodiff] = 0"
   ]
  },
  {
   "cell_type": "code",
   "execution_count": 28,
   "metadata": {},
   "outputs": [],
   "source": [
    "# ifsave = False\n",
    "# plot_diff(pred_e11_IP,true_e11_IP,\"exx_autodiff\",\"diff_exx_autodiff\",ifsave = ifsave)"
   ]
  },
  {
   "cell_type": "code",
   "execution_count": 29,
   "metadata": {
    "scrolled": true
   },
   "outputs": [],
   "source": [
    "# plot_diff(pred_e22_IP,true_e22_IP,\"eyy_autodiff\",\"diff_eyy_autodiff\",ifsave = ifsave)"
   ]
  },
  {
   "cell_type": "code",
   "execution_count": 30,
   "metadata": {},
   "outputs": [],
   "source": [
    "# IP_x = np.loadtxt(real_path + \"IP_x.txt\")\n",
    "# IP_y = np.loadtxt(real_path + \"IP_y.txt\")\n",
    "# X_nodes = torch.tensor(np.concatenate([IP_x.reshape(-1,1),IP_y.reshape(-1,1)]\n",
    "#                                    ,axis = 1)).float().cuda()"
   ]
  },
  {
   "cell_type": "code",
   "execution_count": 31,
   "metadata": {},
   "outputs": [],
   "source": [
    "# e11_nodes,e12_nodes = diff_info_u.forward_2d_plot(X_nodes)\n",
    "# e21_nodes,e22_nodes = diff_info_v.forward_2d_plot(X_nodes)\n",
    "\n",
    "# pred_e11_nodes = e11_nodes.to('cpu').detach().numpy()\n",
    "# pred_e22_nodes = e22_nodes.to('cpu').detach().numpy()\n",
    "# pred_e12_nodes = ((e12_nodes+e21_nodes)/2).to('cpu').detach().numpy()\n",
    "\n",
    "# true_e11_nodes,true_e22_nodes,true_e12_nodes = domain.strain_tensor(X_nodes[:,0],X_nodes[:,1])\n",
    "# true_e11_nodes = true_e11_nodes.to('cpu').detach().numpy()\n",
    "# true_e22_nodes = true_e22_nodes.to('cpu').detach().numpy()\n",
    "# true_e12_nodes = true_e12_nodes.to('cpu').detach().numpy()"
   ]
  },
  {
   "cell_type": "code",
   "execution_count": 32,
   "metadata": {},
   "outputs": [],
   "source": [
    "# ifsave = False\n",
    "# plot_result_ele(f = pred_e11_nodes,f0 = true_e11_nodes,x = (x1,x2),mesh = tri,name = \"exx\",f_name = 'exx',ifsave = ifsave)"
   ]
  },
  {
   "cell_type": "code",
   "execution_count": 33,
   "metadata": {},
   "outputs": [],
   "source": [
    "# plot_result_ele(f = pred_e12_nodes,f0 = true_e12_nodes,x = (x1,x2),mesh = tri,name = \"exy\",f_name = 'exy',ifsave = ifsave)"
   ]
  },
  {
   "cell_type": "code",
   "execution_count": 34,
   "metadata": {},
   "outputs": [],
   "source": [
    "# plot_result_ele(f = pred_e22_nodes,f0 = true_e22_nodes,x = (x1,x2),mesh = tri,name = \"eyy\",f_name = 'eyy',ifsave = ifsave)"
   ]
  },
  {
   "cell_type": "code",
   "execution_count": 35,
   "metadata": {},
   "outputs": [],
   "source": [
    "# modelu.eval()\n",
    "# modelv.eval()\n",
    "# torch.no_grad()\n",
    "# resolution = 501\n",
    "# eps = boundary_min\n",
    "# field_min,field_max = eps,1-eps\n",
    "# x1_list = np.linspace(field_min, field_max, resolution)\n",
    "# x2_list = np.linspace(field_min, field_max, resolution)\n",
    "# X1,X2 = np.meshgrid(x1_list,x2_list)\n",
    "# X_field = torch.tensor(np.concatenate((X1.reshape(-1,1),X2.reshape(-1,1)),axis = 1)).float().cuda()\n",
    "\n",
    "# plot_batch = X_field.shape[0]\n",
    "# diff_info_u = grad1(modelu, plot_batch)\n",
    "# diff_info_v = grad1(modelv, plot_batch)\n",
    "# u_x,u_y = diff_info_u.forward_2d(X_field)\n",
    "# v_x,v_y = diff_info_v.forward_2d(X_field)\n",
    "# ux_plot = u_x.to('cpu').detach().numpy().reshape(resolution,resolution)\n",
    "# vy_plot = v_y.to('cpu').detach().numpy().reshape(resolution,resolution)\n",
    "# tao_xy_plot = (0.5*(u_y.detach()+v_x.detach())).to('cpu').numpy().reshape(resolution,resolution)"
   ]
  },
  {
   "cell_type": "code",
   "execution_count": 36,
   "metadata": {},
   "outputs": [],
   "source": [
    "# plt.figure(figsize=(16,4))\n",
    "\n",
    "# plt.subplot(131)\n",
    "# fmax = float(np.format_float_positional(ux_plot.max(),precision = 3,unique=False, fractional=False, trim='k'))\n",
    "# fmin = float(np.format_float_positional(ux_plot.min(),precision = 3,unique=False, fractional=False, trim='k'))\n",
    "# interval = (fmax-fmin)/4\n",
    "# ct = (fmin, fmin + interval, fmin + 2*interval, fmin + 3*interval, fmax)\n",
    "# plt.imshow(ux_plot,origin = 'lower',norm=colors.TwoSlopeNorm(vcenter=ct[2],vmin = ct[0],vmax = ct[-1]),\n",
    "#           interpolation = None)\n",
    "# # plt.imshow(f_plot,origin = 'lower',interpolation = None)\n",
    "# plt.xticks([0,resolution],[xmin,xmax])\n",
    "# plt.yticks([0,resolution],[ymin,ymax])\n",
    "# plt.colorbar(ticks=ct)\n",
    "# plt.axis('off')\n",
    "# plt.title('exx (rmse:{})'.format(rmse_e11))\n",
    "\n",
    "# plt.subplot(132)\n",
    "# fmax = float(np.format_float_positional(vy_plot.max(),precision = 3,unique=False, fractional=False, trim='k'))\n",
    "# fmin = float(np.format_float_positional(vy_plot.min(),precision = 3,unique=False, fractional=False, trim='k'))\n",
    "# interval = (fmax-fmin)/4\n",
    "# ct = (fmin, fmin + interval, fmin + 2*interval, fmin + 3*interval, fmax)\n",
    "# plt.imshow(vy_plot,origin = 'lower',norm=colors.TwoSlopeNorm(vcenter=ct[2],vmin = ct[0],vmax = ct[-1]),\n",
    "#           interpolation = None)\n",
    "# # plt.imshow(f_plot,origin = 'lower',interpolation = None)\n",
    "# plt.xticks([0,resolution],[xmin,xmax])\n",
    "# plt.yticks([0,resolution],[ymin,ymax])\n",
    "# plt.colorbar(ticks=ct)\n",
    "# plt.axis('off')\n",
    "# plt.title('eyy (rmse:{})'.format(rmse_e22))\n",
    "\n",
    "# plt.subplot(133)\n",
    "# fmax = float(np.format_float_positional(tao_xy_plot.max(),precision = 3,unique=False, fractional=False, trim='k'))\n",
    "# fmin = float(np.format_float_positional(tao_xy_plot.min(),precision = 3,unique=False, fractional=False, trim='k'))\n",
    "# interval = (fmax-fmin)/4\n",
    "# ct = (fmin, fmin + interval, fmin + 2*interval, fmin + 3*interval, fmax)\n",
    "# plt.imshow(tao_xy_plot,origin = 'lower',norm=colors.TwoSlopeNorm(vcenter=ct[2],vmin = ct[0],vmax = ct[-1]),\n",
    "#           interpolation = None)\n",
    "# plt.xticks([0,resolution],[xmin,xmax])\n",
    "# plt.yticks([0,resolution],[ymin,ymax])\n",
    "# plt.colorbar(ticks=ct)\n",
    "# plt.axis('off')\n",
    "# plt.title('exy (rmse:{})'.format(rmse_e12))\n",
    "# fig.tight_layout()\n",
    "# # plt.savefig('figs/fiber_eps_2grid.jpg',dpi = 300)\n",
    "# plt.show()"
   ]
  },
  {
   "cell_type": "code",
   "execution_count": 37,
   "metadata": {},
   "outputs": [],
   "source": [
    "# np.savetxt(\"results_data/tinyfix_w50.txt\", f_plot)"
   ]
  },
  {
   "cell_type": "code",
   "execution_count": 38,
   "metadata": {},
   "outputs": [],
   "source": [
    "# n_plots = 6\n",
    "# torch.no_grad()\n",
    "# field_y = encoding_v(X_field.to(device)).to('cpu').detach().numpy()\n",
    "# plot_levels = np.linspace(0,n_levels-1,n_plots).astype('int')\n",
    "# plt.figure(figsize=(14,8))\n",
    "\n",
    "# for level,i in zip(plot_levels,range(n_plots)):\n",
    "#     plt.subplot(2,3,i+1)\n",
    "#     f_plot = field_y[:,level*n_features].reshape(resolution,resolution)\n",
    "#     fmax = f_plot.max()\n",
    "#     fmin = f_plot.min()\n",
    "#     interval = (fmax-fmin)/4\n",
    "#     ct = (my_sig(fmin,2), my_sig(fmin + interval,2), my_sig(fmin + 2*interval,2), my_sig(fmin + 3*interval,2), my_sig(fmax,2))    \n",
    "#     plt.imshow(f_plot,origin = 'lower',interpolation = None,vmin=my_sig(fmin,2), vmax=my_sig(fmax,2))\n",
    "\n",
    "#     plt.xticks([0,resolution],[0,1])\n",
    "#     plt.yticks([0,resolution],[0,1])\n",
    "#     plt.axis('off')\n",
    "#     res = np.floor(np.power(p_l_s, float(level), dtype=\"d\")*base_res-1, dtype=\"d\").astype(int)+1\n",
    "#     plt.title(\"level = {}, res = {}\".format(level+1,res))\n",
    "#     plt.colorbar(ticks=ct)\n",
    "\n",
    "# # plt.savefig('figs/feature_output.jpg',dpi = 1500)\n",
    "# plt.show()"
   ]
  },
  {
   "cell_type": "code",
   "execution_count": 39,
   "metadata": {
    "scrolled": false
   },
   "outputs": [],
   "source": [
    "# n_plots = 6\n",
    "# X_field_grad = X_field.to(device).clone()\n",
    "# X_field_grad.requires_grad = True\n",
    "# field_y = encoding_v(X_field_grad)\n",
    "# plot_levels = np.linspace(0,n_levels-1,n_plots).astype('int')\n",
    "# plt.figure(figsize=(14,8))\n",
    "\n",
    "# for level,i in zip(plot_levels,range(n_plots)):\n",
    "#     plt.subplot(2,3,i+1)\n",
    "#     f_plot_disp = field_y[:,level*n_features]#.reshape(resolution,resolution)\n",
    "#     f_plot = grad(f_plot_disp,X_field_grad,\n",
    "#                        torch.ones_like(f_plot_disp).to(device),\n",
    "#                        retain_graph=True, create_graph=True)[0][:,1].reshape(resolution,resolution).to('cpu').detach().numpy()[1:-1,1:-1]\n",
    "#     fmax = f_plot.max()\n",
    "#     fmin = f_plot.min()\n",
    "#     interval = (fmax-fmin)/4\n",
    "#     ct = (my_sig(fmin,2), my_sig(fmin + interval,2), my_sig(fmin + 2*interval,2), my_sig(fmin + 3*interval,2), my_sig(fmax,2))    \n",
    "#     plt.imshow(f_plot,origin = 'lower',interpolation = None,vmin=my_sig(fmin,2), vmax=my_sig(fmax,2))\n",
    "\n",
    "# #     plt.xticks([0,resolution],[xmin,xmax])\n",
    "# #     plt.yticks([0,resolution],[ymin,ymax])\n",
    "#     plt.axis('off')\n",
    "#     res = np.floor(np.power(p_l_s, float(level), dtype=\"d\")*base_res-1, dtype=\"d\").astype(int)+1\n",
    "#     plt.title(\"level = {}, res = {}\".format(level+1,res))\n",
    "#     plt.colorbar(ticks=ct)\n",
    "\n",
    "# plt.show()"
   ]
  },
  {
   "cell_type": "code",
   "execution_count": 40,
   "metadata": {},
   "outputs": [],
   "source": [
    "# n_plots = 6\n",
    "# X_field_grad = X_field.to(device).clone()\n",
    "# X_field_grad.requires_grad = True\n",
    "# f_plot_feature = encoding_u(X_field_grad)\n",
    "# f_plot_disp = mlp(f_plot_feature)\n",
    "# f_plot_all = grad(f_plot_disp,f_plot_feature,\n",
    "#                    torch.ones_like(f_plot_disp).to(device),\n",
    "#                    retain_graph=True, create_graph=True)[0]\n",
    "# plot_levels = np.linspace(0,n_levels-1,n_plots).astype('int')\n",
    "# plt.figure(figsize=(14,8))\n",
    "\n",
    "# for level,i in zip(plot_levels,range(n_plots)):\n",
    "#     plt.subplot(2,3,i+1)    \n",
    "#     f_plot = f_plot_all[:,level*n_features].reshape(resolution,resolution).to('cpu').detach().numpy()\n",
    "#     fmax = f_plot.max()\n",
    "#     fmin = f_plot.min()\n",
    "#     interval = (fmax-fmin)/4\n",
    "#     ct = (my_sig(fmin,2), my_sig(fmin + interval,2), my_sig(fmin + 2*interval,2), my_sig(fmin + 3*interval,2), my_sig(fmax,2))    \n",
    "#     plt.imshow(f_plot,origin = 'lower',interpolation = None,vmin=my_sig(fmin,2), vmax=my_sig(fmax,2))\n",
    "\n",
    "#     plt.xticks([0,resolution],[xmin,xmax])\n",
    "#     plt.yticks([0,resolution],[ymin,ymax])\n",
    "#     plt.axis('off')\n",
    "#     res = np.floor(np.power(p_l_s, float(level), dtype=\"d\")*base_res-1, dtype=\"d\").astype(int)+1\n",
    "#     plt.title(\"level = {}, res = {}\".format(level+1,res))\n",
    "#     plt.colorbar(ticks=ct)\n",
    "\n",
    "# plt.show()\n",
    "# f_plot_all.to('cpu').detach().numpy().mean(axis = 0)"
   ]
  },
  {
   "cell_type": "code",
   "execution_count": 41,
   "metadata": {},
   "outputs": [],
   "source": [
    "# n_plots = 6\n",
    "# X_field_grad = X_field.to(device).clone()\n",
    "# X_field_grad.requires_grad = True\n",
    "\n",
    "# f_plot_feature = encoding_u(X_field_grad)\n",
    "# f_plot_disp = mlp(f_plot_feature)\n",
    "# dm_dh = grad(f_plot_disp,f_plot_feature,\n",
    "#                    torch.ones_like(f_plot_disp).to(device),\n",
    "#                    retain_graph=True, create_graph=True)[0].to('cpu').detach()\n",
    "# dh_dx1 = torch.zeros_like(dm_dh)\n",
    "# for level in range(n_plots):\n",
    "#     dhi_dx1 = grad(f_plot_feature[:,level],X_field_grad,\n",
    "#                        torch.ones_like(f_plot_feature[:,level]).to(device),\n",
    "#                        retain_graph=True, create_graph=True)[0][:,0].to('cpu').detach()\n",
    "#     dh_dx1[:,level] = dhi_dx1\n",
    "\n",
    "# f_plot = (dm_dh*dh_dx1).sum(axis = 1).reshape(resolution,resolution).numpy()\n",
    "\n",
    "# plt.figure(figsize=(6,6))\n",
    "\n",
    "# fmax = f_plot.max()\n",
    "# fmin = f_plot.min()\n",
    "# interval = (fmax-fmin)/4\n",
    "# ct = (my_sig(fmin,2), my_sig(fmin + interval,2), my_sig(fmin + 2*interval,2), my_sig(fmin + 3*interval,2), my_sig(fmax,2))    \n",
    "# plt.imshow(f_plot,origin = 'lower',interpolation = None,vmin=my_sig(fmin,2), vmax=my_sig(fmax,2))\n",
    "\n",
    "# plt.xticks([0,resolution],[xmin,xmax])\n",
    "# plt.yticks([0,resolution],[ymin,ymax])\n",
    "# plt.axis('off')\n",
    "# plt.colorbar(ticks=ct)\n",
    "\n",
    "# plt.show()"
   ]
  },
  {
   "cell_type": "code",
   "execution_count": 42,
   "metadata": {},
   "outputs": [],
   "source": [
    "# target_level = 12\n",
    "# # encoding.eval()\n",
    "# torch.no_grad()\n",
    "# field_y = encoding_u(X_field.to(device)).to('cpu').detach().numpy()\n",
    "# plt.figure(figsize=(10,8))\n",
    "# if target_level != 0:\n",
    "#     plt.subplot(2,2,1)\n",
    "#     f_plot = field_y[:,target_level*n_features - 1].reshape(resolution,resolution)\n",
    "#     plt.imshow(f_plot,origin = 'lower',interpolation = None)\n",
    "#     plt.xticks([0,resolution],[xmin,xmax])\n",
    "#     plt.yticks([0,resolution],[ymin,ymax])\n",
    "#     plt.axis('off')\n",
    "#     plt.title(\"level = {}, F = {}\".format(target_level,2))\n",
    "#     plt.colorbar()\n",
    "\n",
    "# plt.subplot(2,2,2)\n",
    "# f_plot = field_y[:,target_level*n_features].reshape(resolution,resolution)\n",
    "# plt.imshow(f_plot,origin = 'lower',interpolation = None)\n",
    "# plt.xticks([0,resolution],[xmin,xmax])\n",
    "# plt.yticks([0,resolution],[ymin,ymax])\n",
    "# plt.axis('off')\n",
    "# plt.title(\"level = {}, F = {}\".format(target_level+1,1))\n",
    "# plt.colorbar()\n",
    "# plt.subplot(2,2,3)\n",
    "# f_plot = field_y[:,(target_level+1)*n_features -1].reshape(resolution,resolution)\n",
    "# plt.imshow(f_plot,origin = 'lower',interpolation = None)\n",
    "# plt.xticks([0,resolution],[xmin,xmax])\n",
    "# plt.yticks([0,resolution],[ymin,ymax])\n",
    "# plt.axis('off')\n",
    "# plt.title(\"level = {}, F = {}\".format(target_level+1,2))\n",
    "# plt.colorbar()\n",
    "# if target_level != n_levels-1:\n",
    "#     plt.subplot(2,2,4)\n",
    "#     f_plot = field_y[:,(target_level+1)*n_features].reshape(resolution,resolution)\n",
    "#     plt.imshow(f_plot,origin = 'lower',interpolation = None)\n",
    "#     plt.xticks([0,resolution],[xmin,xmax])\n",
    "#     plt.yticks([0,resolution],[ymin,ymax])\n",
    "#     plt.axis('off')\n",
    "#     plt.title(\"level = {}, F = {}\".format(target_level+2,1))\n",
    "#     plt.colorbar()\n",
    "\n",
    "# plt.show()"
   ]
  }
 ],
 "metadata": {
  "kernelspec": {
   "display_name": "Python 3",
   "language": "python",
   "name": "python3"
  },
  "language_info": {
   "codemirror_mode": {
    "name": "ipython",
    "version": 3
   },
   "file_extension": ".py",
   "mimetype": "text/x-python",
   "name": "python",
   "nbconvert_exporter": "python",
   "pygments_lexer": "ipython3",
   "version": "3.7.8"
  }
 },
 "nbformat": 4,
 "nbformat_minor": 5
}
