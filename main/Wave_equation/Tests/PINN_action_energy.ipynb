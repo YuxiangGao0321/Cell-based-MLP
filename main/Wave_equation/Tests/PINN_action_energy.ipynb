{
 "cells": [
  {
   "cell_type": "code",
   "execution_count": 1,
   "metadata": {},
   "outputs": [],
   "source": [
    "import sys\n",
    "sys_path = 'D:/Research_CAE/MyTinyCUDANN/tiny-cuda-nn/main'\n",
    "sys.path.append(sys_path)\n",
    "from my_tiny_cuda import my_MLP\n",
    "from tools import random_points_1D,collocation_points_1D\n",
    "from gradient import grad1, grad2\n",
    "import tinycudann as tcnn\n",
    "import torch\n",
    "import numpy as np\n",
    "import json\n",
    "device = 'cuda'"
   ]
  },
  {
   "cell_type": "code",
   "execution_count": 2,
   "metadata": {},
   "outputs": [],
   "source": [
    "def generate_grid_points(resolution, field_min = 0, field_max = 1):\n",
    "    x1_list = np.linspace(field_min, field_max, resolution)\n",
    "    x2_list = np.linspace(field_min, field_max, resolution)\n",
    "    X1,X2 = np.meshgrid(x1_list,x2_list)\n",
    "    X_field = torch.tensor(np.concatenate((X1.reshape(-1,1),X2.reshape(-1,1)),\n",
    "    axis = 1)).float().to(device)\n",
    "    return X_field\n",
    "\n",
    "def sample_all_boundary(batch_size_BC,field_min = 0, field_max = 1):\n",
    "    n00 = torch.tensor([field_min,field_min])\n",
    "    n01 = torch.tensor([field_min,field_max])\n",
    "    n10 = torch.tensor([field_max,field_min])\n",
    "    n11 = torch.tensor([field_max,field_max])\n",
    "    X_bot = random_points_1D(int(batch_size_BC),n00,n10)\n",
    "    X_left = random_points_1D(int(batch_size_BC),n00,n01)\n",
    "    X_right = random_points_1D(int(batch_size_BC),n10,n11)\n",
    "    X_top = random_points_1D(int(batch_size_BC),n01,n11)\n",
    "    X_boundaries = torch.cat((X_bot,X_left,X_top,X_right), dim = 0)\n",
    "    return X_boundaries\n",
    "\n",
    "class Wave_equation(torch.nn.Module):\n",
    "    def __init__(self,c = 1.0, L = 1):\n",
    "        super().__init__()\n",
    "        self.c = c\n",
    "        self.c2 = c**2\n",
    "        self.L = L\n",
    "    def strong_form(self,x,grad_result):\n",
    "        d2u_dt2,d2u_dx2 = grad_result[\"d2u_dx2\"],grad_result[\"d2u_dy2\"]\n",
    "        result = d2u_dt2 - self.c2*d2u_dx2\n",
    "        return result\n",
    "    def variational_energy(self,X,u,du_dt,du_dx):\n",
    "        # result = 1/2*(du_dt**2 +self.k* du_dx**2)\n",
    "        result = 0.5*(du_dt**2 - self.c2* du_dx**2)\n",
    "        return result\n",
    "    def system_energy(self,X,u,du_dt,du_dx):\n",
    "        result = 0.5*(du_dt**2 + self.c2* du_dx**2)\n",
    "        return result\n",
    "    def BC_function(self,X):\n",
    "        # return torch.sin(X[:,0]*torch.pi)*torch.sin(X[:,1]*torch.pi)\n",
    "        return self.real_solution(X)\n",
    "    def real_solution(self,X):\n",
    "        # return torch.sin(X[:,1]*torch.pi/self.L)*torch.cos(self.c*X[:,0]*torch.pi/self.L)\n",
    "        return torch.sin(X[:,1] + self.c*X[:,0])\n",
    "\n",
    "class modifying_output(torch.nn.Module):\n",
    "    def __init__(self, model):\n",
    "        super().__init__()\n",
    "        self.model = model\n",
    "        self.T_max = 1\n",
    "        self.X_max = 1\n",
    "        self.c = 1\n",
    "    def forward(self,X):\n",
    "        t,x = X[:,0],X[:,1]\n",
    "        # u = t * (self.T_max - t) * x * (self.X_max - x) * self.model(X) + torch.sin(x + self.c*t)\n",
    "        u = torch.sin(t*torch.pi)*torch.sin(x*torch.pi)* self.model(X) + torch.sin(x + self.c*t)\n",
    "        return u"
   ]
  },
  {
   "cell_type": "code",
   "execution_count": 3,
   "metadata": {},
   "outputs": [],
   "source": [
    "with open(r\"D:\\Research_CAE\\MyTinyCUDANN\\tiny-cuda-nn\\main\\Wave_equation\\Tests\\config_1.json\") as f:\n",
    "    config = json.load(f)\n",
    "# my_mlp = my_MLP(activation = torch.nn.Tanh(), n_input_dims = int(config[\"encoding\"][\"n_levels\"]*config[\"encoding\"][\"n_features_per_level\"]),\n",
    "#             n_hidden = 1, width = 64,\n",
    "#             spectral_norm = False,dtype = torch.float32).to(device)\n",
    "# encoding = tcnn.Encoding1(2, config[\"encoding\"],dtype=torch.float32)\n",
    "# model = modifying_output(torch.nn.Sequential(encoding,my_mlp).to(device))\n",
    "my_mlp = my_MLP(activation = torch.nn.Tanh(), n_input_dims = 2,\n",
    "            n_hidden = 2, width = 32,\n",
    "            spectral_norm = False,dtype = torch.float32).to(device)\n",
    "model = modifying_output(my_mlp).to(device)\n",
    "# model = my_mlp\n",
    "equation = Wave_equation()"
   ]
  },
  {
   "cell_type": "code",
   "execution_count": 4,
   "metadata": {},
   "outputs": [],
   "source": [
    "boundary_sample_points = sample_all_boundary(1000)\n",
    "f_boundary = equation.BC_function(boundary_sample_points).to(device)\n",
    "grid_points_resolution = 100\n",
    "base_grid_points = generate_grid_points(grid_points_resolution, field_min = 0, field_max = 1 - 1/grid_points_resolution)\n",
    "optimizer = torch.optim.Adam(model.parameters(), lr=0.001)\n",
    "# optimizer = torch.optim.LBFGS(model.parameters(),lr = 0.5,\n",
    "#                             max_iter = 100,line_search_fn=\"strong_wolfe\")\n",
    "MSELoss = torch.nn.MSELoss().to(device)"
   ]
  },
  {
   "cell_type": "code",
   "execution_count": 5,
   "metadata": {},
   "outputs": [
    {
     "name": "stdout",
     "output_type": "stream",
     "text": [
      "Iter: 300 inner_loss: 2.311476945877075 \n",
      " action: 0.015888119116425514 energy: 22.955886840820312 bc_loss: 0.0 u_L2: 0.002775811590254307\n",
      "Iter: 600 inner_loss: 2.131270170211792 \n",
      " action: 0.017848113551735878 energy: 21.134220123291016 bc_loss: 0.0 u_L2: 0.0018997691804543138\n",
      "Iter: 900 inner_loss: 2.0164380073547363 \n",
      " action: 0.02159259282052517 energy: 19.948453903198242 bc_loss: 0.0 u_L2: 0.002105115680024028\n",
      "lr:0.0005\n",
      "Iter: 1200 inner_loss: 1.8831937313079834 \n",
      " action: 0.03469099476933479 energy: 18.485027313232422 bc_loss: 0.0 u_L2: 0.002633957890793681\n",
      "Iter: 1500 inner_loss: 1.8687143325805664 \n",
      " action: 0.047242917120456696 energy: 18.21471405029297 bc_loss: 0.0 u_L2: 0.002851045224815607\n",
      "Iter: 1800 inner_loss: 1.8794856071472168 \n",
      " action: 0.04984503239393234 energy: 18.296405792236328 bc_loss: 0.0 u_L2: 0.0031890543177723885\n",
      "lr:0.00025\n",
      "Iter: 2100 inner_loss: 1.873620629310608 \n",
      " action: 0.05434262380003929 energy: 18.192779541015625 bc_loss: 0.0 u_L2: 0.003391716629266739\n",
      "Iter: 2400 inner_loss: 1.8698561191558838 \n",
      " action: 0.05790455639362335 energy: 18.11951446533203 bc_loss: 0.0 u_L2: 0.0035596685484051704\n",
      "Iter: 2700 inner_loss: 1.8296130895614624 \n",
      " action: 0.06432604789733887 energy: 17.652870178222656 bc_loss: 0.0 u_L2: 0.003589451080188155\n",
      "Iter: 3000 inner_loss: 1.8244656324386597 \n",
      " action: 0.06163300573825836 energy: 17.628326416015625 bc_loss: 0.0 u_L2: 0.0037335737142711878\n",
      "lr:0.000125\n",
      "Iter: 3300 inner_loss: 1.8143528699874878 \n",
      " action: 0.06161731854081154 energy: 17.527355194091797 bc_loss: 0.0 u_L2: 0.0038376962766051292\n",
      "Iter: 3600 inner_loss: 1.818710446357727 \n",
      " action: 0.06869674474000931 energy: 17.500137329101562 bc_loss: 0.0 u_L2: 0.0038519850932061672\n",
      "Iter: 3900 inner_loss: 1.8213117122650146 \n",
      " action: 0.06173277273774147 energy: 17.595788955688477 bc_loss: 0.0 u_L2: 0.0038773734122514725\n",
      "lr:6.25e-05\n",
      "Iter: 4200 inner_loss: 1.8139739036560059 \n",
      " action: 0.06428103148937225 energy: 17.496929168701172 bc_loss: 0.0 u_L2: 0.004026730079203844\n",
      "Iter: 4500 inner_loss: 1.8460838794708252 \n",
      " action: 0.07069431245326996 energy: 17.753894805908203 bc_loss: 0.0 u_L2: 0.0040524364449083805\n",
      "Iter: 4800 inner_loss: 1.797484278678894 \n",
      " action: 0.06523080915212631 energy: 17.322534561157227 bc_loss: 0.0 u_L2: 0.004082777071744204\n",
      "lr:3.125e-05\n"
     ]
    }
   ],
   "source": [
    "lam = 0.1\n",
    "n_step = 5000\n",
    "n_step_output = 300\n",
    "n_step_half_lr = 1000\n",
    "# n_step = 300\n",
    "# n_step_output = 10\n",
    "# n_step_half_lr = 100\n",
    "model.train()\n",
    "diff_info = grad1(model,base_grid_points.shape[0])\n",
    "diff_info.to_device(device)\n",
    "for i in range(1, n_step+1):\n",
    "    grid_points = base_grid_points + torch.rand(1,2, device = device)/grid_points_resolution\n",
    "    def closure():\n",
    "        global bc_loss, inner_loss, PDE_residual, PDE_energy\n",
    "        optimizer.zero_grad()\n",
    "        bc_loss = MSELoss(model(boundary_sample_points),f_boundary)\n",
    "        du_dt,du_dx,u = diff_info.forward_2d(grid_points)\n",
    "        PDE_residual = equation.variational_energy(grid_points,u,du_dt,du_dx).mean()\n",
    "        PDE_energy = torch.median(equation.system_energy(grid_points,u,du_dt,du_dx).view(grid_points_resolution,grid_points_resolution).sum(dim = 0))\n",
    "        inner_loss =  PDE_residual + lam*PDE_energy #(PDE_residual**2).mean()\n",
    "        loss = inner_loss #+ lam* bc_loss\n",
    "        loss.backward()\n",
    "        return loss\n",
    "    optimizer.step(closure)\n",
    "    if i % n_step_output == 0:\n",
    "        model.eval()\n",
    "        with torch.no_grad():\n",
    "            u_error = MSELoss(model(grid_points),equation.real_solution(grid_points))\n",
    "        print('Iter:',i,'inner_loss:',inner_loss.item(),\"\\n\", 'action:',PDE_residual.item(),'energy:',PDE_energy.item(),\n",
    "        'bc_loss:',bc_loss.item(),'u_L2:',u_error.item(),)\n",
    "        model.train()\n",
    "    \n",
    "    if i % n_step_half_lr == 0:\n",
    "        for param_group in optimizer.param_groups:\n",
    "            param_group['lr'] = param_group['lr']/2\n",
    "            current_lr = param_group['lr']\n",
    "        print(\"lr:{}\".format(current_lr))"
   ]
  },
  {
   "cell_type": "code",
   "execution_count": 12,
   "metadata": {},
   "outputs": [
    {
     "data": {
      "text/plain": [
       "<matplotlib.collections.PathCollection at 0x18b237a8888>"
      ]
     },
     "execution_count": 12,
     "metadata": {},
     "output_type": "execute_result"
    },
    {
     "data": {
      "image/png": "[encoded data removed]",
      "text/plain": [
       "<Figure size 432x288 with 1 Axes>"
      ]
     },
     "metadata": {
      "needs_background": "light"
     },
     "output_type": "display_data"
    }
   ],
   "source": [
    "from matplotlib import pyplot as plt\n",
    "grid_points_plot = grid_points.detach().cpu().numpy()\n",
    "plt.scatter(grid_points_plot[:,0],grid_points_plot[:,1], s = 0.01)"
   ]
  },
  {
   "cell_type": "code",
   "execution_count": 42,
   "metadata": {},
   "outputs": [
    {
     "data": {
      "text/plain": [
       "tensor(50.0495, device='cuda:0', grad_fn=<MedianBackward0>)"
      ]
     },
     "execution_count": 42,
     "metadata": {},
     "output_type": "execute_result"
    }
   ],
   "source": [
    "test_grid_points = (grid_points[:, 0] * 0.001 + grid_points[:, 1]).view(100,100)\n",
    "torch.median(test_grid_points.sum(dim = 0))"
   ]
  },
  {
   "cell_type": "code",
   "execution_count": 6,
   "metadata": {},
   "outputs": [],
   "source": [
    "for param in model.parameters():\n",
    "    with torch.no_grad():\n",
    "        param.data.zero_()"
   ]
  },
  {
   "cell_type": "code",
   "execution_count": 7,
   "metadata": {},
   "outputs": [
    {
     "data": {
      "text/plain": [
       "tensor(0., device='cuda:0')"
      ]
     },
     "execution_count": 7,
     "metadata": {},
     "output_type": "execute_result"
    }
   ],
   "source": [
    "model.eval()\n",
    "with torch.no_grad():\n",
    "    u_error = MSELoss(model(grid_points),equation.real_solution(grid_points))\n",
    "u_error"
   ]
  },
  {
   "cell_type": "code",
   "execution_count": 8,
   "metadata": {},
   "outputs": [
    {
     "data": {
      "text/plain": [
       "tensor(0., device='cuda:0', grad_fn=<MeanBackward0>)"
      ]
     },
     "execution_count": 8,
     "metadata": {},
     "output_type": "execute_result"
    }
   ],
   "source": [
    "du_dt,du_dx,u = diff_info.forward_2d(grid_points)\n",
    "PDE_residual = equation.variational_energy(grid_points,u,du_dt,du_dx).mean()\n",
    "PDE_residual"
   ]
  },
  {
   "cell_type": "code",
   "execution_count": 7,
   "metadata": {},
   "outputs": [
    {
     "data": {
      "text/plain": [
       "tensor(0.6465, device='cuda:0', grad_fn=<MeanBackward0>)"
      ]
     },
     "execution_count": 7,
     "metadata": {},
     "output_type": "execute_result"
    }
   ],
   "source": [
    "equation.real_solution(grid_points).square().mean()"
   ]
  }
 ],
 "metadata": {
  "kernelspec": {
   "display_name": "Python 3",
   "language": "python",
   "name": "python3"
  },
  "language_info": {
   "codemirror_mode": {
    "name": "ipython",
    "version": 3
   },
   "file_extension": ".py",
   "mimetype": "text/x-python",
   "name": "python",
   "nbconvert_exporter": "python",
   "pygments_lexer": "ipython3",
   "version": "3.7.8"
  }
 },
 "nbformat": 4,
 "nbformat_minor": 2
}
